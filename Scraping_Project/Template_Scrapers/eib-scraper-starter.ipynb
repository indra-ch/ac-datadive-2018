{
 "cells": [
  {
   "cell_type": "markdown",
   "metadata": {},
   "source": [
    "# Starter for the EIB website\n"
   ]
  },
  {
   "cell_type": "code",
   "execution_count": 1,
   "metadata": {
    "collapsed": true
   },
   "outputs": [],
   "source": [
    "#!/usr/bin/env python\n",
    "# -*- coding: utf-8 -*-\n",
    "import requests\n",
    "from bs4 import BeautifulSoup\n",
    "import pandas as pd"
   ]
  },
  {
   "cell_type": "code",
   "execution_count": 2,
   "metadata": {
    "collapsed": true
   },
   "outputs": [],
   "source": [
    "from datamodel import Fields"
   ]
  },
  {
   "cell_type": "code",
   "execution_count": 3,
   "metadata": {
    "collapsed": true
   },
   "outputs": [],
   "source": [
    "def get_page_content(url):\n",
    "    \"\"\"\n",
    "        Given a url, this would return the html content of the page parsed by BeautifulSoup\n",
    "    \"\"\"\n",
    "    page = requests.get(url)\n",
    "    page_content = BeautifulSoup(page.content, 'html.parser')\n",
    "    return page_content, page.status_code"
   ]
  },
  {
   "cell_type": "code",
   "execution_count": 4,
   "metadata": {
    "collapsed": true
   },
   "outputs": [],
   "source": [
    "def get_project_table(html):\n",
    "    \"\"\"\n",
    "        Grab the table with project information\n",
    "    \"\"\"\n",
    "    maindiv = html.find(\"div\", {\"id\": \"consultationsList\"})\n",
    "    table= maindiv.find_all('table')\n",
    "    df = pd.read_html(str(table), header=0)\n",
    "    df = df[0]\n",
    "    return df"
   ]
  },
  {
   "cell_type": "code",
   "execution_count": 5,
   "metadata": {
    "collapsed": true
   },
   "outputs": [],
   "source": [
    "def get_project_urls(html):\n",
    "    \"\"\"\n",
    "    Retrieve the urls from the onclick js function\n",
    "    \"\"\"\n",
    "    maindiv = html.find(\"div\", {\"id\": \"consultationsList\"})\n",
    "    trs = maindiv.find_all('tr')\n",
    "    urls = []\n",
    "    for i in trs:\n",
    "        if i.get('onclick'):\n",
    "            url = i.get('onclick').split(',')[0].replace(\"window.open('/\"'',\"\").strip('\\'').strip()\n",
    "            url = 'http://' + url\n",
    "            urls.append(url)\n",
    "    return urls"
   ]
  },
  {
   "cell_type": "markdown",
   "metadata": {},
   "source": [
    "**Scrape**"
   ]
  },
  {
   "cell_type": "code",
   "execution_count": 6,
   "metadata": {
    "collapsed": true
   },
   "outputs": [],
   "source": [
    "base_url = \"http://www.eib.org/about/accountability/complaints/cases/index.htm\""
   ]
  },
  {
   "cell_type": "code",
   "execution_count": 7,
   "metadata": {
    "collapsed": true
   },
   "outputs": [],
   "source": [
    "html, sc = get_page_content(base_url)"
   ]
  },
  {
   "cell_type": "code",
   "execution_count": 9,
   "metadata": {},
   "outputs": [],
   "source": [
    "def scrape():\n",
    "    ## GET PROJECT TABLE\n",
    "    df = get_project_table(html)\n",
    "    ## GET URLS\n",
    "    urls = get_project_urls(html)\n",
    "    df['urls'] = urls\n",
    "\n",
    "    ## Limit to E type\n",
    "    df = df[df.Type == 'E']\n",
    "\n",
    "    def clean(x):\n",
    "        return x.replace(':','').strip()\n",
    "\n",
    "    ## Store the project specific data\n",
    "    ## Only grabbing Filer/ID right now - but should be expanded\n",
    "    project_data = []\n",
    "    count404 = 0\n",
    "    url404 = []\n",
    "    \n",
    "    ## Iterate over urls - controlling for 404 errors\n",
    "    count = 0\n",
    "    for idx, url in zip(df.index,df.urls):\n",
    "        page, sc = get_page_content(url)\n",
    "        if sc != 404:\n",
    "            main_section = page.find('div',{'id':'consultations'})\n",
    "            project_id = main_section.find('strong',text='Reference').next_sibling\n",
    "            filer = main_section.find('strong',text='Complainant').next_sibling\n",
    "            project_data.append([idx, clean(project_id), clean(filer)])\n",
    "        else:\n",
    "            count404 += 1\n",
    "            url404.append(url)\n",
    "            project_data.append([idx, None, None])\n",
    "        count += 1\n",
    "        if count % 25 ==0:\n",
    "            print(count)\n",
    "    \n",
    "    print('Number of 404 Responses', count404)\n",
    "    \n",
    "    ## Merge into DF and return \n",
    "    project_data = pd.DataFrame(project_data,columns=['idx','project id','Filer(s)'])\n",
    "    project_data.index = project_data.idx\n",
    "    project_data = project_data.drop('idx',axis=1)\n",
    "    df = pd.concat([df, project_data],axis=1)\n",
    "    df = df.reset_index(drop=True)\n",
    "    return df, {'url404':url404, 'count404':count404}"
   ]
  },
  {
   "cell_type": "markdown",
   "metadata": {},
   "source": [
    "## Get the Scrape "
   ]
  },
  {
   "cell_type": "code",
   "execution_count": 10,
   "metadata": {},
   "outputs": [
    {
     "name": "stdout",
     "output_type": "stream",
     "text": [
      "25\n",
      "50\n",
      "75\n",
      "100\n",
      "125\n",
      "150\n",
      "175\n",
      "200\n",
      "Number of 404 Responses 5\n"
     ]
    }
   ],
   "source": [
    "df, info = scrape()"
   ]
  },
  {
   "cell_type": "markdown",
   "metadata": {},
   "source": [
    "Some minor static additions "
   ]
  },
  {
   "cell_type": "code",
   "execution_count": 11,
   "metadata": {
    "collapsed": true
   },
   "outputs": [],
   "source": [
    "df['IAM'] = 'EIB'\n",
    "df['IAM ID'] = 29\n",
    "df['registration_start_date'] = df['Received Date'] ## This is in the AC code but may not be what they actually want. \n",
    "df['year'] = [i[-4:] for i in df['Received Date']]"
   ]
  },
  {
   "cell_type": "markdown",
   "metadata": {},
   "source": [
    "## Conform the Columns to Data Model\n",
    "\n",
    "(Probably an easier way to do this :)  )"
   ]
  },
  {
   "cell_type": "code",
   "execution_count": 12,
   "metadata": {},
   "outputs": [
    {
     "data": {
      "text/plain": [
       "Index(['Received Date', 'Type', 'Case Name', 'Country/Territory',\n",
       "       'Allegations', 'Last Stage Completed', 'Current Status', 'urls',\n",
       "       'project id', 'Filer(s)', 'IAM', 'IAM ID', 'registration_start_date',\n",
       "       'year'],\n",
       "      dtype='object')"
      ]
     },
     "execution_count": 12,
     "metadata": {},
     "output_type": "execute_result"
    }
   ],
   "source": [
    "df.columns"
   ]
  },
  {
   "cell_type": "code",
   "execution_count": 12,
   "metadata": {
    "collapsed": true
   },
   "outputs": [],
   "source": [
    "data_model_conforming = {\n",
    "    'Received Date'          :'FILING_DATE'             ,\n",
    "    'Case Name'              :'PROJECT_NAME'            ,\n",
    "    'Country/Territory'      :'COUNTRY'                 ,\n",
    "    'project id'             :'PROJECT_ID'              ,\n",
    "    'urls'                   :'HYPERLINK'               ,\n",
    "    'Filer(s)'               :'FILERS'                   ,\n",
    "    'IAM'                    :'IAM'                     ,\n",
    "    'IAM ID'                 :'IAM_ID'                  ,\n",
    "    'registration_start_date':'REGISTRATION_START_DATE' ,\n",
    "    'Current Status'         :'COMPLAINT_STATUS'        ,  \n",
    "    'year'                   :'YEAR'                    \n",
    "}"
   ]
  },
  {
   "cell_type": "code",
   "execution_count": 13,
   "metadata": {
    "collapsed": true
   },
   "outputs": [],
   "source": [
    "output_df = df.copy()\n",
    "output_df = output_df.rename(columns = data_model_conforming)"
   ]
  },
  {
   "cell_type": "markdown",
   "metadata": {},
   "source": [
    "**Add Cols That Weren't Scraped **"
   ]
  },
  {
   "cell_type": "code",
   "execution_count": 15,
   "metadata": {
    "collapsed": true
   },
   "outputs": [],
   "source": [
    "output_cols = []\n",
    "add_cols = []\n",
    "for c in output_df.columns:\n",
    "    if c in Fields.__members__:\n",
    "        output_cols.append(c)\n",
    "        \n",
    "for c in Fields.__members__:\n",
    "    if c not in output_cols:\n",
    "        add_cols.append(c)"
   ]
  },
  {
   "cell_type": "code",
   "execution_count": 17,
   "metadata": {
    "collapsed": true
   },
   "outputs": [],
   "source": [
    "output_df = output_df[output_cols]"
   ]
  },
  {
   "cell_type": "code",
   "execution_count": 18,
   "metadata": {
    "collapsed": true
   },
   "outputs": [],
   "source": [
    "for c in add_cols:\n",
    "    output_df[c] = None"
   ]
  },
  {
   "cell_type": "markdown",
   "metadata": {},
   "source": [
    "** Get Correct Order **"
   ]
  },
  {
   "cell_type": "code",
   "execution_count": 19,
   "metadata": {
    "collapsed": true
   },
   "outputs": [],
   "source": [
    "output_df = output_df[[i for i in Fields.__members__]]"
   ]
  },
  {
   "cell_type": "code",
   "execution_count": 20,
   "metadata": {
    "collapsed": true
   },
   "outputs": [],
   "source": [
    "output_df.columns= [Fields[i].value for i in output_df.columns]"
   ]
  },
  {
   "cell_type": "code",
   "execution_count": 23,
   "metadata": {},
   "outputs": [
    {
     "data": {
      "text/html": [
       "<div>\n",
       "<style scoped>\n",
       "    .dataframe tbody tr th:only-of-type {\n",
       "        vertical-align: middle;\n",
       "    }\n",
       "\n",
       "    .dataframe tbody tr th {\n",
       "        vertical-align: top;\n",
       "    }\n",
       "\n",
       "    .dataframe thead th {\n",
       "        text-align: right;\n",
       "    }\n",
       "</style>\n",
       "<table border=\"1\" class=\"dataframe\">\n",
       "  <thead>\n",
       "    <tr style=\"text-align: right;\">\n",
       "      <th></th>\n",
       "      <th>IAM</th>\n",
       "      <th>IAM_id</th>\n",
       "      <th>compliance_review_end_date</th>\n",
       "      <th>compliance_review_start_date</th>\n",
       "      <th>compliant_status</th>\n",
       "      <th>country</th>\n",
       "      <th>date_closed</th>\n",
       "      <th>dispute_resolution_end_date</th>\n",
       "      <th>dispute_resolution_start_date</th>\n",
       "      <th>documents</th>\n",
       "      <th>...</th>\n",
       "      <th>project_id</th>\n",
       "      <th>project_loan_amount</th>\n",
       "      <th>project_name</th>\n",
       "      <th>project_number</th>\n",
       "      <th>project_type</th>\n",
       "      <th>registration_end_date</th>\n",
       "      <th>registration_start_date</th>\n",
       "      <th>related_project_number</th>\n",
       "      <th>sector</th>\n",
       "      <th>year</th>\n",
       "    </tr>\n",
       "  </thead>\n",
       "  <tbody>\n",
       "    <tr>\n",
       "      <th>0</th>\n",
       "      <td>EIB</td>\n",
       "      <td>29</td>\n",
       "      <td>None</td>\n",
       "      <td>None</td>\n",
       "      <td>Closed</td>\n",
       "      <td>Serbia</td>\n",
       "      <td>None</td>\n",
       "      <td>None</td>\n",
       "      <td>None</td>\n",
       "      <td>None</td>\n",
       "      <td>...</td>\n",
       "      <td>None</td>\n",
       "      <td>None</td>\n",
       "      <td>Gazela Bridge Rehabilitation</td>\n",
       "      <td>None</td>\n",
       "      <td>None</td>\n",
       "      <td>None</td>\n",
       "      <td>28/09/2009</td>\n",
       "      <td>None</td>\n",
       "      <td>None</td>\n",
       "      <td>2009</td>\n",
       "    </tr>\n",
       "    <tr>\n",
       "      <th>1</th>\n",
       "      <td>EIB</td>\n",
       "      <td>29</td>\n",
       "      <td>None</td>\n",
       "      <td>None</td>\n",
       "      <td>Closed</td>\n",
       "      <td>Unknown</td>\n",
       "      <td>None</td>\n",
       "      <td>None</td>\n",
       "      <td>None</td>\n",
       "      <td>None</td>\n",
       "      <td>...</td>\n",
       "      <td>SG/E/2008/06</td>\n",
       "      <td>None</td>\n",
       "      <td>Transport Lending Policy</td>\n",
       "      <td>None</td>\n",
       "      <td>None</td>\n",
       "      <td>None</td>\n",
       "      <td>07/11/2008</td>\n",
       "      <td>None</td>\n",
       "      <td>None</td>\n",
       "      <td>2008</td>\n",
       "    </tr>\n",
       "    <tr>\n",
       "      <th>2</th>\n",
       "      <td>EIB</td>\n",
       "      <td>29</td>\n",
       "      <td>None</td>\n",
       "      <td>None</td>\n",
       "      <td>Closed</td>\n",
       "      <td>Egypt</td>\n",
       "      <td>None</td>\n",
       "      <td>None</td>\n",
       "      <td>None</td>\n",
       "      <td>None</td>\n",
       "      <td>...</td>\n",
       "      <td>SG/E/2009/05</td>\n",
       "      <td>None</td>\n",
       "      <td>South Sinai Power Plant</td>\n",
       "      <td>None</td>\n",
       "      <td>None</td>\n",
       "      <td>None</td>\n",
       "      <td>19/05/2009</td>\n",
       "      <td>None</td>\n",
       "      <td>None</td>\n",
       "      <td>2009</td>\n",
       "    </tr>\n",
       "    <tr>\n",
       "      <th>3</th>\n",
       "      <td>EIB</td>\n",
       "      <td>29</td>\n",
       "      <td>None</td>\n",
       "      <td>None</td>\n",
       "      <td>Closed</td>\n",
       "      <td>Tunisia</td>\n",
       "      <td>None</td>\n",
       "      <td>None</td>\n",
       "      <td>None</td>\n",
       "      <td>None</td>\n",
       "      <td>...</td>\n",
       "      <td>SG/E/2012/01</td>\n",
       "      <td>None</td>\n",
       "      <td>Autoroute Sfax-Gabes</td>\n",
       "      <td>None</td>\n",
       "      <td>None</td>\n",
       "      <td>None</td>\n",
       "      <td>13/02/2012</td>\n",
       "      <td>None</td>\n",
       "      <td>None</td>\n",
       "      <td>2012</td>\n",
       "    </tr>\n",
       "    <tr>\n",
       "      <th>4</th>\n",
       "      <td>EIB</td>\n",
       "      <td>29</td>\n",
       "      <td>None</td>\n",
       "      <td>None</td>\n",
       "      <td>Closed</td>\n",
       "      <td>Mozambique</td>\n",
       "      <td>None</td>\n",
       "      <td>None</td>\n",
       "      <td>None</td>\n",
       "      <td>None</td>\n",
       "      <td>...</td>\n",
       "      <td>SG/E/2010/16</td>\n",
       "      <td>None</td>\n",
       "      <td>MOZAL II</td>\n",
       "      <td>None</td>\n",
       "      <td>None</td>\n",
       "      <td>None</td>\n",
       "      <td>26/10/2010</td>\n",
       "      <td>None</td>\n",
       "      <td>None</td>\n",
       "      <td>2010</td>\n",
       "    </tr>\n",
       "  </tbody>\n",
       "</table>\n",
       "<p>5 rows × 30 columns</p>\n",
       "</div>"
      ],
      "text/plain": [
       "   IAM  IAM_id compliance_review_end_date compliance_review_start_date  \\\n",
       "0  EIB      29                       None                         None   \n",
       "1  EIB      29                       None                         None   \n",
       "2  EIB      29                       None                         None   \n",
       "3  EIB      29                       None                         None   \n",
       "4  EIB      29                       None                         None   \n",
       "\n",
       "  compliant_status     country date_closed dispute_resolution_end_date  \\\n",
       "0           Closed      Serbia        None                        None   \n",
       "1           Closed     Unknown        None                        None   \n",
       "2           Closed       Egypt        None                        None   \n",
       "3           Closed     Tunisia        None                        None   \n",
       "4           Closed  Mozambique        None                        None   \n",
       "\n",
       "  dispute_resolution_start_date documents  ...     project_id  \\\n",
       "0                          None      None  ...           None   \n",
       "1                          None      None  ...   SG/E/2008/06   \n",
       "2                          None      None  ...   SG/E/2009/05   \n",
       "3                          None      None  ...   SG/E/2012/01   \n",
       "4                          None      None  ...   SG/E/2010/16   \n",
       "\n",
       "  project_loan_amount                  project_name project_number  \\\n",
       "0                None  Gazela Bridge Rehabilitation           None   \n",
       "1                None      Transport Lending Policy           None   \n",
       "2                None       South Sinai Power Plant           None   \n",
       "3                None          Autoroute Sfax-Gabes           None   \n",
       "4                None                      MOZAL II           None   \n",
       "\n",
       "  project_type registration_end_date registration_start_date  \\\n",
       "0         None                  None              28/09/2009   \n",
       "1         None                  None              07/11/2008   \n",
       "2         None                  None              19/05/2009   \n",
       "3         None                  None              13/02/2012   \n",
       "4         None                  None              26/10/2010   \n",
       "\n",
       "  related_project_number sector  year  \n",
       "0                   None   None  2009  \n",
       "1                   None   None  2008  \n",
       "2                   None   None  2009  \n",
       "3                   None   None  2012  \n",
       "4                   None   None  2010  \n",
       "\n",
       "[5 rows x 30 columns]"
      ]
     },
     "execution_count": 23,
     "metadata": {},
     "output_type": "execute_result"
    }
   ],
   "source": [
    "output_df.head()"
   ]
  }
 ],
 "metadata": {
  "kernelspec": {
   "display_name": "Python 3",
   "language": "python",
   "name": "python3"
  },
  "language_info": {
   "codemirror_mode": {
    "name": "ipython",
    "version": 3
   },
   "file_extension": ".py",
   "mimetype": "text/x-python",
   "name": "python",
   "nbconvert_exporter": "python",
   "pygments_lexer": "ipython3",
   "version": "3.6.1"
  }
 },
 "nbformat": 4,
 "nbformat_minor": 2
}
