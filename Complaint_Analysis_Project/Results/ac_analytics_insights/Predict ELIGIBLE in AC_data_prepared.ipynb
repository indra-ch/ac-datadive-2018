{
 "cells": [
  {
   "cell_type": "markdown",
   "metadata": {},
   "source": [
    "# Predicting ELIGIBLE in AC_data_prepared_1_joined"
   ]
  },
  {
   "cell_type": "markdown",
   "metadata": {},
   "source": [
    "### Notebook automatically generated from your model"
   ]
  },
  {
   "cell_type": "markdown",
   "metadata": {},
   "source": [
    "Model Gradient Boosted Trees, trained on 2018-06-23 20:18:19."
   ]
  },
  {
   "cell_type": "markdown",
   "metadata": {},
   "source": [
    "#### Generated on 2018-06-24 00:29:01.441230"
   ]
  },
  {
   "cell_type": "markdown",
   "metadata": {},
   "source": [
    "prediction\n",
    "This notebook will reproduce the steps for a BINARY_CLASSIFICATION on  AC_data_prepared_1_joined.\n",
    "The main objective is to predict the variable ELIGIBLE"
   ]
  },
  {
   "cell_type": "markdown",
   "metadata": {},
   "source": [
    "#### Warning"
   ]
  },
  {
   "cell_type": "markdown",
   "metadata": {},
   "source": [
    "The goal of this notebook is to provide an easily readable and explainable code that reproduces the main steps\n",
    "of training the model. It is not complete: some of the preprocessing done by the DSS visual machine learning is not\n",
    "replicated in this notebook. This notebook will not give the same results and model performance as the DSS visual machine\n",
    "learning model."
   ]
  },
  {
   "cell_type": "markdown",
   "metadata": {},
   "source": [
    "Let's start with importing the required libs :"
   ]
  },
  {
   "cell_type": "code",
   "execution_count": null,
   "metadata": {},
   "outputs": [],
   "source": [
    "import dataiku\n",
    "import numpy as np\n",
    "import pandas as pd\n",
    "import sklearn as sk\n",
    "import dataiku.core.pandasutils as pdu\n",
    "from dataiku.doctor.preprocessing import PCA\n",
    "from collections import defaultdict, Counter"
   ]
  },
  {
   "cell_type": "markdown",
   "metadata": {},
   "source": [
    "And tune pandas display options:"
   ]
  },
  {
   "cell_type": "code",
   "execution_count": null,
   "metadata": {},
   "outputs": [],
   "source": [
    "pd.set_option('display.width', 3000)\n",
    "pd.set_option('display.max_rows', 200)\n",
    "pd.set_option('display.max_columns', 200)"
   ]
  },
  {
   "cell_type": "markdown",
   "metadata": {},
   "source": [
    "#### Importing base data"
   ]
  },
  {
   "cell_type": "markdown",
   "metadata": {},
   "source": [
    "The first step is to get our machine learning dataset:"
   ]
  },
  {
   "cell_type": "code",
   "execution_count": null,
   "metadata": {},
   "outputs": [],
   "source": [
    "# We apply the preparation that you defined. You should not modify this.\n",
    "preparation_steps = []\n",
    "preparation_output_schema = {u'userModified': False, u'columns': [{u'timestampNoTzAsDate': False, u'type': u'string', u'name': u'IAM_External_ID', u'maxLength': -1}, {u'timestampNoTzAsDate': False, u'type': u'string', u'name': u'Complaint_Name', u'maxLength': -1}, {u'timestampNoTzAsDate': False, u'type': u'string', u'name': u'Project', u'maxLength': -1}, {u'timestampNoTzAsDate': False, u'type': u'string', u'name': u'Country_1', u'maxLength': -1}, {u'timestampNoTzAsDate': False, u'type': u'string', u'name': u'Country_2', u'maxLength': -1}, {u'timestampNoTzAsDate': False, u'type': u'string', u'name': u'Country_3', u'maxLength': -1}, {u'timestampNoTzAsDate': False, u'type': u'string', u'name': u'Country_4', u'maxLength': -1}, {u'timestampNoTzAsDate': False, u'type': u'string', u'name': u'IAM', u'maxLength': -1}, {u'timestampNoTzAsDate': False, u'type': u'string', u'name': u'Bank', u'maxLength': -1}, {u'timestampNoTzAsDate': False, u'type': u'string', u'name': u'External_ID', u'maxLength': -1}, {u'timestampNoTzAsDate': False, u'type': u'string', u'name': u'Status', u'maxLength': -1}, {u'timestampNoTzAsDate': False, u'type': u'string', u'name': u'Filer', u'maxLength': -1}, {u'timestampNoTzAsDate': False, u'type': u'bigint', u'name': u'IFI_SupportOther', u'maxLength': -1}, {u'timestampNoTzAsDate': False, u'type': u'bigint', u'name': u'IFI_SupportRisk Guarantee', u'maxLength': -1}, {u'timestampNoTzAsDate': False, u'type': u'bigint', u'name': u'IFI_SupportFinancial intermediary', u'maxLength': -1}, {u'timestampNoTzAsDate': False, u'type': u'bigint', u'name': u'IFI_SupportAdvisory services', u'maxLength': -1}, {u'timestampNoTzAsDate': False, u'type': u'bigint', u'name': u'IFI_SupportEquity Investment', u'maxLength': -1}, {u'timestampNoTzAsDate': False, u'type': u'bigint', u'name': u'IFI_SupportProject/investment lending', u'maxLength': -1}, {u'timestampNoTzAsDate': False, u'type': u'bigint', u'name': u'Sector_Land reform', u'maxLength': -1}, {u'timestampNoTzAsDate': False, u'type': u'bigint', u'name': u'Sector_Healthcare', u'maxLength': -1}, {u'timestampNoTzAsDate': False, u'type': u'bigint', u'name': u'Sector_Education', u'maxLength': -1}, {u'timestampNoTzAsDate': False, u'type': u'bigint', u'name': u'Sector_Regulatory Development', u'maxLength': -1}, {u'timestampNoTzAsDate': False, u'type': u'bigint', u'name': u'Sector_Community capacity and development', u'maxLength': -1}, {u'timestampNoTzAsDate': False, u'type': u'bigint', u'name': u'Sector_Chemicals', u'maxLength': -1}, {u'timestampNoTzAsDate': False, u'type': u'bigint', u'name': u'Sector_Conservation and environmental protection', u'maxLength': -1}, {u'timestampNoTzAsDate': False, u'type': u'bigint', u'name': u'Sector_Extractives', u'maxLength': -1}, {u'timestampNoTzAsDate': False, u'type': u'bigint', u'name': u'Sector_Forestry', u'maxLength': -1}, {u'timestampNoTzAsDate': False, u'type': u'bigint', u'name': u'Sector_Agribusiness', u'maxLength': -1}, {u'timestampNoTzAsDate': False, u'type': u'bigint', u'name': u'Sector_Manufacturing', u'maxLength': -1}, {u'timestampNoTzAsDate': False, u'type': u'bigint', u'name': u'Sector_Energy', u'maxLength': -1}, {u'timestampNoTzAsDate': False, u'type': u'bigint', u'name': u'Sector_Infrastructure', u'maxLength': -1}, {u'timestampNoTzAsDate': False, u'type': u'bigint', u'name': u'Sector_Other', u'maxLength': -1}, {u'timestampNoTzAsDate': False, u'type': u'bigint', u'name': u'Issue_Corruption/fraud', u'maxLength': -1}, {u'timestampNoTzAsDate': False, u'type': u'bigint', u'name': u'Issue_Gender-based violence', u'maxLength': -1}, {u'timestampNoTzAsDate': False, u'type': u'bigint', u'name': u'Issue_Other retaliation', u'maxLength': -1}, {u'timestampNoTzAsDate': False, u'type': u'bigint', u'name': u'Issue_Violence against the community', u'maxLength': -1}, {u'timestampNoTzAsDate': False, u'type': u'bigint', u'name': u'Issue_Biodiversity', u'maxLength': -1}, {u'timestampNoTzAsDate': False, u'type': u'bigint', u'name': u'Issue_Other gender-related issues', u'maxLength': -1}, {u'timestampNoTzAsDate': False, u'type': u'bigint', u'name': u'Issue_Human rights', u'maxLength': -1}, {u'timestampNoTzAsDate': False, u'type': u'bigint', u'name': u'Issue_Pollution', u'maxLength': -1}, {u'timestampNoTzAsDate': False, u'type': u'bigint', u'name': u'Issue_Livelihoods', u'maxLength': -1}, {u'timestampNoTzAsDate': False, u'type': u'bigint', u'name': u'Issue_Property damage', u'maxLength': -1}, {u'timestampNoTzAsDate': False, u'type': u'bigint', u'name': u'Issue_Labor', u'maxLength': -1}, {u'timestampNoTzAsDate': False, u'type': u'bigint', u'name': u'Issue_Consultation and disclosure', u'maxLength': -1}, {u'timestampNoTzAsDate': False, u'type': u'bigint', u'name': u'Issue_Water', u'maxLength': -1}, {u'timestampNoTzAsDate': False, u'type': u'bigint', u'name': u'Issue_Indigenous peoples', u'maxLength': -1}, {u'timestampNoTzAsDate': False, u'type': u'bigint', u'name': u'Issue_Displacement', u'maxLength': -1}, {u'timestampNoTzAsDate': False, u'type': u'bigint', u'name': u'Issue_Cultural heritage', u'maxLength': -1}, {u'timestampNoTzAsDate': False, u'type': u'bigint', u'name': u'Issue_Other environmental', u'maxLength': -1}, {u'timestampNoTzAsDate': False, u'type': u'bigint', u'name': u'Issue_Due diligence', u'maxLength': -1}, {u'timestampNoTzAsDate': False, u'type': u'bigint', u'name': u'Issue_Other community health and safety issues', u'maxLength': -1}, {u'timestampNoTzAsDate': False, u'type': u'bigint', u'name': u'Issue_Other', u'maxLength': -1}, {u'timestampNoTzAsDate': False, u'type': u'bigint', u'name': u'Issue_Procurement', u'maxLength': -1}, {u'timestampNoTzAsDate': False, u'type': u'string', u'name': u'Description', u'maxLength': -1}, {u'timestampNoTzAsDate': False, u'type': u'boolean', u'name': u'Compliance_Report_Issued', u'maxLength': -1}, {u'timestampNoTzAsDate': False, u'type': u'boolean', u'name': u'Noncompliance_Found', u'maxLength': -1}, {u'timestampNoTzAsDate': False, u'type': u'date', u'name': u'Filing_Date', u'maxLength': -1}, {u'timestampNoTzAsDate': False, u'type': u'date', u'name': u'Registration_Start', u'maxLength': -1}, {u'timestampNoTzAsDate': False, u'type': u'date', u'name': u'Registration_End', u'maxLength': -1}, {u'timestampNoTzAsDate': False, u'type': u'string', u'name': u'Registration_Status', u'maxLength': -1}, {u'timestampNoTzAsDate': False, u'type': u'string', u'name': u'If_No_Registration_Why', u'maxLength': -1}, {u'timestampNoTzAsDate': False, u'type': u'date', u'name': u'Eligibility_Start', u'maxLength': -1}, {u'timestampNoTzAsDate': False, u'type': u'date', u'name': u'Eligibility_End', u'maxLength': -1}, {u'timestampNoTzAsDate': False, u'type': u'string', u'name': u'Eligibility_Status', u'maxLength': -1}, {u'timestampNoTzAsDate': False, u'type': u'string', u'name': u'If_No_Eligibility_Why_1', u'maxLength': -1}, {u'timestampNoTzAsDate': False, u'type': u'string', u'name': u'If_No_Eligibility_Why_2', u'maxLength': -1}, {u'timestampNoTzAsDate': False, u'type': u'string', u'name': u'If_No_Eligibility_Why_3', u'maxLength': -1}, {u'timestampNoTzAsDate': False, u'type': u'date', u'name': u'Dispute_Resolution_Start', u'maxLength': -1}, {u'timestampNoTzAsDate': False, u'type': u'string', u'name': u'Dispute_Resolution_End', u'maxLength': -1}, {u'timestampNoTzAsDate': False, u'type': u'string', u'name': u'Dispute_Resolution_Status', u'maxLength': -1}, {u'timestampNoTzAsDate': False, u'type': u'string', u'name': u'If_No_Dispute_Resolution_Why', u'maxLength': -1}, {u'timestampNoTzAsDate': False, u'type': u'string', u'name': u'Compliance_Review_Start', u'maxLength': -1}, {u'timestampNoTzAsDate': False, u'type': u'string', u'name': u'Compliance_Review_End', u'maxLength': -1}, {u'timestampNoTzAsDate': False, u'type': u'string', u'name': u'Compliance_Review_Status', u'maxLength': -1}, {u'timestampNoTzAsDate': False, u'type': u'string', u'name': u'If_No_Compliance_Report_Why', u'maxLength': -1}, {u'timestampNoTzAsDate': False, u'type': u'date', u'name': u'Monitoring_Start', u'maxLength': -1}, {u'timestampNoTzAsDate': False, u'type': u'date', u'name': u'Monitoring_End', u'maxLength': -1}, {u'timestampNoTzAsDate': False, u'type': u'string', u'name': u'Monitoring_Status', u'maxLength': -1}, {u'timestampNoTzAsDate': False, u'type': u'string', u'name': u'If_No_Monitoring_Why', u'maxLength': -1}, {u'timestampNoTzAsDate': False, u'type': u'date', u'name': u'Date_Closed', u'maxLength': -1}, {u'timestampNoTzAsDate': False, u'type': u'bigint', u'name': u'ELIGIBLE', u'maxLength': -1}, {u'timestampNoTzAsDate': False, u'type': u'bigint', u'name': u'report_re_outcomes_independent_institution_staff', u'maxLength': -1}, {u'timestampNoTzAsDate': False, u'type': u'bigint', u'name': u'institution_management_president_request_compliance_review', u'maxLength': -1}, {u'timestampNoTzAsDate': False, u'type': u'bigint', u'name': u'institution_management_formally_respond_claim', u'maxLength': -1}, {u'timestampNoTzAsDate': False, u'type': u'bigint', u'name': u'representative_file_claim_behalf_affected_person', u'maxLength': -1}, {u'timestampNoTzAsDate': False, u'type': u'bigint', u'name': u'seek_additional_information_claim_incomplete', u'maxLength': -1}, {u'timestampNoTzAsDate': False, u'type': u'bigint', u'name': u'advisory_function', u'maxLength': -1}, {u'timestampNoTzAsDate': False, u'type': u'bigint', u'name': u'project_suspended_claim_brought', u'maxLength': -1}, {u'timestampNoTzAsDate': False, u'type': u'bigint', u'name': u'claim_allege_specific_violations_institution_policies_procedures', u'maxLength': -1}, {u'timestampNoTzAsDate': False, u'type': u'bigint', u'name': u'request_registered_relevant_department_respond_request', u'maxLength': -1}, {u'timestampNoTzAsDate': False, u'type': u'bigint', u'name': u'claim_brought_full_disbursal_funds', u'maxLength': -1}, {u'timestampNoTzAsDate': False, u'type': u'bigint', u'name': u'external_stakeholders_say_selection_approval_panelists_experts', u'maxLength': -1}, {u'timestampNoTzAsDate': False, u'type': u'bigint', u'name': u'panelists_experts_employed_institution_working_long', u'maxLength': -1}, {u'timestampNoTzAsDate': False, u'type': u'bigint', u'name': u'request_additional_information_claimant', u'maxLength': -1}, {u'timestampNoTzAsDate': False, u'type': u'bigint', u'name': u'staff_determine_function_use', u'maxLength': -1}, {u'timestampNoTzAsDate': False, u'type': u'bigint', u'name': u'identities_investigators_disclosed_public', u'maxLength': -1}, {u'timestampNoTzAsDate': False, u'type': u'bigint', u'name': u'claimants_informed_draft_findings_report_made_president_board', u'maxLength': -1}, {u'timestampNoTzAsDate': False, u'type': u'bigint', u'name': u'problem_solving_eligibility_reports_made_public', u'maxLength': -1}, {u'timestampNoTzAsDate': False, u'type': u'bigint', u'name': u'extension_investigation_require_approval_head_institution', u'maxLength': -1}, {u'timestampNoTzAsDate': False, u'type': u'bigint', u'name': u'parties_confidential_documents_protected_disclosure', u'maxLength': -1}, {u'timestampNoTzAsDate': False, u'type': u'bigint', u'name': u'immediate_acknowledgement_claim_received_within_5_days', u'maxLength': -1}, {u'timestampNoTzAsDate': False, u'type': u'bigint', u'name': u'management_comments_draft_findings', u'maxLength': -1}, {u'timestampNoTzAsDate': False, u'type': u'bigint', u'name': u'rejected_requests_revised_refiled', u'maxLength': -1}, {u'timestampNoTzAsDate': False, u'type': u'bigint', u'name': u'claims_filed_anonymously', u'maxLength': -1}, {u'timestampNoTzAsDate': False, u'type': u'bigint', u'name': u'board_directors_notified_claim_filed', u'maxLength': -1}, {u'timestampNoTzAsDate': False, u'type': u'bigint', u'name': u'board_hire_head_director', u'maxLength': -1}, {u'timestampNoTzAsDate': False, u'type': u'bigint', u'name': u'individual_bring_claim_minimum_number_claimants', u'maxLength': -1}, {u'timestampNoTzAsDate': False, u'type': u'bigint', u'name': u'draft_findings_made_available_management', u'maxLength': -1}, {u'timestampNoTzAsDate': False, u'type': u'bigint', u'name': u'claim_delivered_local_country_office_level', u'maxLength': -1}, {u'timestampNoTzAsDate': False, u'type': u'bigint', u'name': u'representative_present_written_confirmation_authority_claimant', u'maxLength': -1}, {u'timestampNoTzAsDate': False, u'type': u'bigint', u'name': u'transparent_process_selection_approval_panelists_experts', u'maxLength': -1}, {u'timestampNoTzAsDate': False, u'type': u'bigint', u'name': u'policy_contain_restrictions_concerning_past_ongoing_judicial_arbitral_administrative_proceedings', u'maxLength': -1}, {u'timestampNoTzAsDate': False, u'type': u'bigint', u'name': u'claimants_comments_draft_recommendations', u'maxLength': -1}, {u'timestampNoTzAsDate': False, u'type': u'bigint', u'name': u'claim_delivered_email', u'maxLength': -1}, {u'timestampNoTzAsDate': False, u'type': u'bigint', u'name': u'final_decisions_board_president_made_public', u'maxLength': -1}, {u'timestampNoTzAsDate': False, u'type': u'bigint', u'name': u'policy_contain_restrictions_concerning_past_ongoing_iam_proceedings', u'maxLength': -1}, {u'timestampNoTzAsDate': False, u'type': u'bigint', u'name': u'clear_instructions_institution_staff_deliver_claim_received', u'maxLength': -1}, {u'timestampNoTzAsDate': False, u'type': u'bigint', u'name': u'report_re_outcomes_independent_president', u'maxLength': -1}, {u'timestampNoTzAsDate': False, u'type': u'bigint', u'name': u'sent_fax_email_original_copy_request_sent_mail', u'maxLength': -1}, {u'timestampNoTzAsDate': False, u'type': u'bigint', u'name': u'claimants_directly_request_compliance_review', u'maxLength': -1}, {u'timestampNoTzAsDate': False, u'type': u'bigint', u'name': u'public_registry_claims_registered', u'maxLength': -1}, {u'timestampNoTzAsDate': False, u'type': u'bigint', u'name': u'institution_board_directors_request_compliance_review', u'maxLength': -1}, {u'timestampNoTzAsDate': False, u'type': u'bigint', u'name': u'annual_reports_published_website', u'maxLength': -1}, {u'timestampNoTzAsDate': False, u'type': u'bigint', u'name': u'claimant_submit_revised_request_later_process', u'maxLength': -1}, {u'timestampNoTzAsDate': False, u'type': u'bigint', u'name': u'might_require_pres_management_approval_stage_process', u'maxLength': -1}, {u'timestampNoTzAsDate': False, u'type': u'bigint', u'name': u'problem_solving_dispute_resolution_function', u'maxLength': -1}, {u'timestampNoTzAsDate': False, u'type': u'bigint', u'name': u'representative_explain_one_community_represent_claimant', u'maxLength': -1}, {u'timestampNoTzAsDate': False, u'type': u'bigint', u'name': u'claim_list_claimants', u'maxLength': -1}, {u'timestampNoTzAsDate': False, u'type': u'bigint', u'name': u'follow_reports_required_written_consultation_claimants', u'maxLength': -1}, {u'timestampNoTzAsDate': False, u'type': u'bigint', u'name': u'staff_meet_potential_claimants', u'maxLength': -1}, {u'timestampNoTzAsDate': False, u'type': u'bigint', u'name': u'time_limit_contracts_panelists_experts', u'maxLength': -1}, {u'timestampNoTzAsDate': False, u'type': u'bigint', u'name': u'full_time_staff_include_director', u'maxLength': -1}, {u'timestampNoTzAsDate': False, u'type': u'bigint', u'name': u'staff_panelists_experts_request_compliance_review', u'maxLength': -1}, {u'timestampNoTzAsDate': False, u'type': u'bigint', u'name': u'staff', u'maxLength': -1}, {u'timestampNoTzAsDate': False, u'type': u'bigint', u'name': u'conduct_compliance_review_completed_projects', u'maxLength': -1}, {u'timestampNoTzAsDate': False, u'type': u'bigint', u'name': u'ps_cr_chosen_functions_sequenced', u'maxLength': -1}, {u'timestampNoTzAsDate': False, u'type': u'bigint', u'name': u'inform_claimants_claims_failed', u'maxLength': -1}, {u'timestampNoTzAsDate': False, u'type': u'bigint', u'name': u'mechanisms_recommendations_findings_made_public_decision_made', u'maxLength': -1}, {u'timestampNoTzAsDate': False, u'type': u'bigint', u'name': u'non_local_representative_bring_claim_showing_adequate_local_representation', u'maxLength': -1}, {u'timestampNoTzAsDate': False, u'type': u'bigint', u'name': u'relevant_department_respond_outcome_report', u'maxLength': -1}, {u'timestampNoTzAsDate': False, u'type': u'bigint', u'name': u'claim_writing', u'maxLength': -1}, {u'timestampNoTzAsDate': False, u'type': u'bigint', u'name': u'bar_head_director_worked_institution_previously_long', u'maxLength': -1}, {u'timestampNoTzAsDate': False, u'type': u'bigint', u'name': u'publish_guides_used', u'maxLength': -1}, {u'timestampNoTzAsDate': False, u'type': u'bigint', u'name': u'draft_recommendations_made_available_claimant', u'maxLength': -1}, {u'timestampNoTzAsDate': False, u'type': u'bigint', u'name': u'report_follow_monitoring', u'maxLength': -1}, {u'timestampNoTzAsDate': False, u'type': u'bigint', u'name': u'submit_copy_claim_head_institution', u'maxLength': -1}, {u'timestampNoTzAsDate': False, u'type': u'bigint', u'name': u'website_provide_documents_related_operations', u'maxLength': -1}, {u'timestampNoTzAsDate': False, u'type': u'bigint', u'name': u'hold_public_meetings_local_representatives', u'maxLength': -1}, {u'timestampNoTzAsDate': False, u'type': u'bigint', u'name': u'management_president_hire_head_director', u'maxLength': -1}, {u'timestampNoTzAsDate': False, u'type': u'bigint', u'name': u'claim_describe_attempts_resolve_concerns_relevant_parties_well', u'maxLength': -1}, {u'timestampNoTzAsDate': False, u'type': u'bigint', u'name': u'interview_relevant_staff', u'maxLength': -1}, {u'timestampNoTzAsDate': False, u'type': u'bigint', u'name': u'policy_require_new_information_file_new_request', u'maxLength': -1}, {u'timestampNoTzAsDate': False, u'type': u'bigint', u'name': u'public_registry_claims_found_eligible', u'maxLength': -1}, {u'timestampNoTzAsDate': False, u'type': u'bigint', u'name': u'panelists_experts_forbidden_working_projects_conflict_interest', u'maxLength': -1}, {u'timestampNoTzAsDate': False, u'type': u'bigint', u'name': u'claimant_live_project_area', u'maxLength': -1}, {u'timestampNoTzAsDate': False, u'type': u'bigint', u'name': u'prepare_budget', u'maxLength': -1}, {u'timestampNoTzAsDate': False, u'type': u'bigint', u'name': u'office', u'maxLength': -1}, {u'timestampNoTzAsDate': False, u'type': u'bigint', u'name': u'cr_sought_ps_occur_first', u'maxLength': -1}, {u'timestampNoTzAsDate': False, u'type': u'bigint', u'name': u'recommendations', u'maxLength': -1}, {u'timestampNoTzAsDate': False, u'type': u'bigint', u'name': u'documents_website_available_multiple_languages', u'maxLength': -1}, {u'timestampNoTzAsDate': False, u'type': u'bigint', u'name': u'claim_filed_language', u'maxLength': -1}, {u'timestampNoTzAsDate': False, u'type': u'bigint', u'name': u'information_available_institution_national_local_offices', u'maxLength': -1}, {u'timestampNoTzAsDate': False, u'type': u'bigint', u'name': u'draft_findings_made_available_claimant', u'maxLength': -1}, {u'timestampNoTzAsDate': False, u'type': u'bigint', u'name': u'issue_press_releases_media_communications', u'maxLength': -1}, {u'timestampNoTzAsDate': False, u'type': u'bigint', u'name': u'right_appeal_outcome_independent_higher_authority', u'maxLength': -1}, {u'timestampNoTzAsDate': False, u'type': u'bigint', u'name': u'president_board_approve_transfer_compliance_review_function_problem_solving', u'maxLength': -1}, {u'timestampNoTzAsDate': False, u'type': u'bigint', u'name': u'use_panel_model_roster_experts_model_conduct_functions', u'maxLength': -1}, {u'timestampNoTzAsDate': False, u'type': u'bigint', u'name': u'claim_brought_potential_harm_existing_project', u'maxLength': -1}, {u'timestampNoTzAsDate': False, u'type': u'bigint', u'name': u'report_re_outcomes_independent_board', u'maxLength': -1}, {u'timestampNoTzAsDate': False, u'type': u'bigint', u'name': u'final_compliance_reports_made_public', u'maxLength': -1}, {u'timestampNoTzAsDate': False, u'type': u'bigint', u'name': u'claim_brought_project_approved_institution_board', u'maxLength': -1}, {u'timestampNoTzAsDate': False, u'type': u'bigint', u'name': u'dedicated_staff_addition_head_director', u'maxLength': -1}, {u'timestampNoTzAsDate': False, u'type': u'bigint', u'name': u'bound_international_institution_confidentiality_disclosure_policies', u'maxLength': -1}, {u'timestampNoTzAsDate': False, u'type': u'bigint', u'name': u'compliance_review_function', u'maxLength': -1}, {u'timestampNoTzAsDate': False, u'type': u'bigint', u'name': u'website_provide_updates_ongoing_cases', u'maxLength': -1}, {u'timestampNoTzAsDate': False, u'type': u'bigint', u'name': u'panelists_experts_removed_board_without_cause', u'maxLength': -1}, {u'timestampNoTzAsDate': False, u'type': u'bigint', u'name': u'eligibility_independent_institution_staff', u'maxLength': -1}, {u'timestampNoTzAsDate': False, u'type': u'bigint', u'name': u'independent_authority_appoint_investigators', u'maxLength': -1}, {u'timestampNoTzAsDate': False, u'type': u'bigint', u'name': u'time_limit_contract_head_director', u'maxLength': -1}, {u'timestampNoTzAsDate': False, u'type': u'bigint', u'name': u'claim_delivered_person', u'maxLength': -1}, {u'timestampNoTzAsDate': False, u'type': u'bigint', u'name': u'findings_compliance_review', u'maxLength': -1}, {u'timestampNoTzAsDate': False, u'type': u'bigint', u'name': u'policies_governing_time_delays', u'maxLength': -1}, {u'timestampNoTzAsDate': False, u'type': u'bigint', u'name': u'translation_claim_delay_timeframe', u'maxLength': -1}, {u'timestampNoTzAsDate': False, u'type': u'bigint', u'name': u'president_say_hiring_panelists_experts', u'maxLength': -1}, {u'timestampNoTzAsDate': False, u'type': u'bigint', u'name': u'upon_request_respond_language_request', u'maxLength': -1}, {u'timestampNoTzAsDate': False, u'type': u'bigint', u'name': u'claimants_directly_request_problem_solving', u'maxLength': -1}, {u'timestampNoTzAsDate': False, u'type': u'bigint', u'name': u'bar_panelists_experts_worked_institution_previously_long', u'maxLength': -1}, {u'timestampNoTzAsDate': False, u'type': u'bigint', u'name': u'claim_allege_material_harm', u'maxLength': -1}, {u'timestampNoTzAsDate': False, u'type': u'bigint', u'name': u'biographical_data_investigators_available_website', u'maxLength': -1}, {u'timestampNoTzAsDate': False, u'type': u'bigint', u'name': u'upon_submission_revised_request_process_begin', u'maxLength': -1}, {u'timestampNoTzAsDate': False, u'type': u'bigint', u'name': u'claim_brought_direct_harm_institution', u'maxLength': -1}, {u'timestampNoTzAsDate': False, u'type': u'bigint', u'name': u'claimants_comments_draft_findings', u'maxLength': -1}, {u'timestampNoTzAsDate': False, u'type': u'bigint', u'name': u'within_many_days_receipt_decision_made_regarding_registration', u'maxLength': -1}, {u'timestampNoTzAsDate': False, u'type': u'bigint', u'name': u'time_frame_within_claim_brought', u'maxLength': -1}, {u'timestampNoTzAsDate': False, u'type': u'bigint', u'name': u'guides_published_multiple_languages', u'maxLength': -1}, {u'timestampNoTzAsDate': False, u'type': u'bigint', u'name': u'official_website', u'maxLength': -1}, {u'timestampNoTzAsDate': False, u'type': u'bigint', u'name': u'draft_recommendations_made_available_management', u'maxLength': -1}, {u'timestampNoTzAsDate': False, u'type': u'bigint', u'name': u'select_approve_hiring_panelists_experts', u'maxLength': -1}, {u'timestampNoTzAsDate': False, u'type': u'bigint', u'name': u'claim_suggest_remedies', u'maxLength': -1}, {u'timestampNoTzAsDate': False, u'type': u'bigint', u'name': u'panel_members_experts_regularly_trained_regarding_institution_mechanism', u'maxLength': -1}, {u'timestampNoTzAsDate': False, u'type': u'bigint', u'name': u'two_functions_take_place_simultaneously', u'maxLength': -1}, {u'timestampNoTzAsDate': False, u'type': u'bigint', u'name': u'claim_delivered_institution_regional_office', u'maxLength': -1}, {u'timestampNoTzAsDate': False, u'type': u'bigint', u'name': u'head_institution_notified_registers_claim', u'maxLength': -1}, {u'timestampNoTzAsDate': False, u'type': u'bigint', u'name': u'head_institution_notified_claim_filed', u'maxLength': -1}, {u'timestampNoTzAsDate': False, u'type': u'bigint', u'name': u'default_respond_language_request', u'maxLength': -1}, {u'timestampNoTzAsDate': False, u'type': u'bigint', u'name': u'board_approve_hiring_panelists_experts', u'maxLength': -1}, {u'timestampNoTzAsDate': False, u'type': u'bigint', u'name': u'request_consider_outside_information', u'maxLength': -1}, {u'timestampNoTzAsDate': False, u'type': u'bigint', u'name': u'claim_request_use_specific_function_compliance_dispute_advisory', u'maxLength': -1}, {u'timestampNoTzAsDate': False, u'type': u'bigint', u'name': u'monitor_implementation_changes', u'maxLength': -1}, {u'timestampNoTzAsDate': False, u'type': u'bigint', u'name': u'claim_describe_claimant_attempts_resolve_concerns_filing_claim', u'maxLength': -1}, {u'timestampNoTzAsDate': False, u'type': u'bigint', u'name': u'claim_allege_causal_links_institution_noncompliance_harm', u'maxLength': -1}, {u'timestampNoTzAsDate': False, u'type': u'bigint', u'name': u'claim_allege_violation_bank_policies_except_procurement_fraud', u'maxLength': -1}, {u'timestampNoTzAsDate': False, u'type': u'bigint', u'name': u'claimant_live_borrowing_country_project_issue', u'maxLength': -1}, {u'timestampNoTzAsDate': False, u'type': u'bigint', u'name': u'management_comments_draft_recommendations', u'maxLength': -1}, {u'timestampNoTzAsDate': False, u'type': u'bigint', u'name': u'authority_conduct_site_visits_investigation_stage', u'maxLength': -1}, {u'timestampNoTzAsDate': False, u'type': u'bigint', u'name': u'public_registry_claims_submitted', u'maxLength': -1}, {u'timestampNoTzAsDate': False, u'type': u'bigint', u'name': u'request_made_confidentiality', u'maxLength': -1}, {u'timestampNoTzAsDate': False, u'type': u'bigint', u'name': u'request_relevant_documents', u'maxLength': -1}, {u'timestampNoTzAsDate': False, u'type': u'bigint', u'name': u'timely_opportunity_withdraw_claim_kept_confidential', u'maxLength': -1}, {u'timestampNoTzAsDate': False, u'type': u'bigint', u'name': u'final_problem_solving_reports_made_public', u'maxLength': -1}, {u'timestampNoTzAsDate': False, u'type': u'bigint', u'name': u'investigate_project_sponsors_clients', u'maxLength': -1}, {u'timestampNoTzAsDate': False, u'type': u'bigint', u'name': u'least_one_site_visit_stage_required', u'maxLength': -1}, {u'timestampNoTzAsDate': False, u'type': u'bigint', u'name': u'decision_made_regarding_eligibility', u'maxLength': -1}, {u'timestampNoTzAsDate': False, u'type': u'bigint', u'name': u'time_frame_limit_established_cr_investigation_phase', u'maxLength': -1}, {u'timestampNoTzAsDate': False, u'type': u'bigint', u'name': u'claims_filed_way_maintains_confidentiality', u'maxLength': -1}, {u'timestampNoTzAsDate': False, u'type': u'bigint', u'name': u'new_information_unknown_unavailable_time_earlier_filing', u'maxLength': -1}, {u'timestampNoTzAsDate': False, u'type': u'bigint', u'name': u'investigate_project_implementers_e_g_contractors', u'maxLength': -1}, {u'timestampNoTzAsDate': False, u'type': u'bigint', u'name': u'requirements_beyond_need_approval_representative_file_behalf', u'maxLength': -1}, {u'timestampNoTzAsDate': False, u'type': u'bigint', u'name': u'conduct_problem_solving_completed_projects', u'maxLength': -1}, {u'timestampNoTzAsDate': False, u'type': u'bigint', u'name': u'claim_brought_physical_completion_project', u'maxLength': -1}, {u'timestampNoTzAsDate': False, u'type': u'bigint', u'name': u'long_take_determine_whether_register_claim', u'maxLength': -1}, {u'timestampNoTzAsDate': False, u'type': u'bigint', u'name': u'management_issue_action_plan_response_finding_non_compliance', u'maxLength': -1}, {u'timestampNoTzAsDate': False, u'type': u'bigint', u'name': u'oral_argument_used_support_claim', u'maxLength': -1}, {u'timestampNoTzAsDate': False, u'type': u'bigint', u'name': u'public_registry_requests', u'maxLength': -1}, {u'timestampNoTzAsDate': False, u'type': u'bigint', u'name': u'claim_delivered_mail', u'maxLength': -1}, {u'timestampNoTzAsDate': False, u'type': u'bigint', u'name': u'independent_authority_accept_conduct_cr', u'maxLength': -1}, {u'timestampNoTzAsDate': False, u'type': u'bigint', u'name': u'investigation_extended_beyond_established_time_frame_necessary', u'maxLength': -1}, {u'timestampNoTzAsDate': False, u'type': u'bigint', u'name': u'interview_relevant_government_project_officials', u'maxLength': -1}, {u'timestampNoTzAsDate': False, u'type': u'bigint', u'name': u'management_prepare_action_plan_consultation_requestors', u'maxLength': -1}, {u'timestampNoTzAsDate': False, u'type': u'bigint', u'name': u'compliance_eligibility_reports_made_public', u'maxLength': -1}, {u'timestampNoTzAsDate': False, u'type': u'bigint', u'name': u'model_online_form_claim_provided_mechanism', u'maxLength': -1}, {u'timestampNoTzAsDate': False, u'type': u'bigint', u'name': u'policy_require_information_distributed_project_sponsors_re_mechanism', u'maxLength': -1}, {u'timestampNoTzAsDate': False, u'type': u'bigint', u'name': u'acceptance_claim_entail_preliminary_investigation_mechanism', u'maxLength': -1}, {u'timestampNoTzAsDate': False, u'type': u'bigint', u'name': u'provide_support_drafting_bringing_claim', u'maxLength': -1}, {u'timestampNoTzAsDate': False, u'type': u'bigint', u'name': u'dedicated_head_director_operations', u'maxLength': -1}, {u'timestampNoTzAsDate': False, u'type': u'bigint', u'name': u'eligibility_independent_president', u'maxLength': -1}, {u'timestampNoTzAsDate': False, u'type': u'bigint', u'name': u'frequency_follow_reports_released', u'maxLength': -1}, {u'timestampNoTzAsDate': False, u'type': u'bigint', u'name': u'policy_require_independent_recruitment_staff', u'maxLength': -1}, {u'timestampNoTzAsDate': False, u'type': u'bigint', u'name': u'follow_monitoring_reports_made_public', u'maxLength': -1}, {u'timestampNoTzAsDate': False, u'type': u'bigint', u'name': u'panelists_experts_also_employees_international_institution', u'maxLength': -1}, {u'timestampNoTzAsDate': False, u'type': u'bigint', u'name': u'long_take_determine_function_use', u'maxLength': -1}, {u'timestampNoTzAsDate': False, u'type': u'bigint', u'name': u'receive_consent_government_site_visits', u'maxLength': -1}, {u'timestampNoTzAsDate': False, u'type': u'bigint', u'name': u'public_meetings_held_inform_people_existence_mechanism', u'maxLength': -1}, {u'timestampNoTzAsDate': False, u'type': u'bigint', u'name': u'relevant_department_given_opportunity_cure_concern', u'maxLength': -1}, {u'timestampNoTzAsDate': False, u'type': u'bigint', u'name': u'regular_training_institution_staff_headquarters_regarding_mechanism', u'maxLength': -1}, {u'timestampNoTzAsDate': False, u'type': u'bigint', u'name': u'management_board_say_selection_approval_additional_staff', u'maxLength': -1}, {u'timestampNoTzAsDate': False, u'type': u'bigint', u'name': u'request_outside_scope_referred_another_department', u'maxLength': -1}, {u'timestampNoTzAsDate': False, u'type': u'bigint', u'name': u'requests_made_public', u'maxLength': -1}, {u'timestampNoTzAsDate': False, u'type': u'bigint', u'name': u'staff_employed_institution_working_mechanism', u'maxLength': -1}, {u'timestampNoTzAsDate': False, u'type': u'bigint', u'name': u'source_outside_information_kept_confidential_upon_request', u'maxLength': -1}, {u'timestampNoTzAsDate': False, u'type': u'bigint', u'name': u'additional_requests_filed_case_project', u'maxLength': -1}, {u'timestampNoTzAsDate': False, u'type': u'bigint', u'name': u'gone_ps_satisfy_eligibility_req_good_faith_effort_resolve_compliance_review', u'maxLength': -1}, {u'timestampNoTzAsDate': False, u'type': u'bigint', u'name': u'regular_training_resident_office_staff_regarding_mechanism', u'maxLength': -1}, {u'timestampNoTzAsDate': False, u'type': u'bigint', u'name': u'long_problem_solving_stage', u'maxLength': -1}, {u'timestampNoTzAsDate': False, u'type': u'bigint', u'name': u'bar_staff_worked_institution_previously_long', u'maxLength': -1}, {u'timestampNoTzAsDate': False, u'type': u'bigint', u'name': u'long_compliance_review_investigation_stage', u'maxLength': -1}, {u'timestampNoTzAsDate': False, u'type': u'bigint', u'name': u'affected_parties_notified_course_action_taken', u'maxLength': -1}, {u'timestampNoTzAsDate': False, u'type': u'bigint', u'name': u'guides_distributed_resident_country_offices', u'maxLength': -1}, {u'timestampNoTzAsDate': False, u'type': u'bigint', u'name': u'guides_distributed_institution_areas_project_operation', u'maxLength': -1}, {u'timestampNoTzAsDate': False, u'type': u'bigint', u'name': u'guides_pro_actively_distributed_ngos_civil_society_organizations', u'maxLength': -1}, {u'timestampNoTzAsDate': False, u'type': u'bigint', u'name': u'jointly_address_claims_regarding_project_another_iam', u'maxLength': -1}, {u'timestampNoTzAsDate': False, u'type': u'bigint', u'name': u'follow_reports_made_public', u'maxLength': -1}, {u'timestampNoTzAsDate': False, u'type': u'bigint', u'name': u'issue_follow_monitoring_reports_independently', u'maxLength': -1}, {u'timestampNoTzAsDate': False, u'type': u'bigint', u'name': u'follow_reports_required_written_consultation_management_project_sponsor', u'maxLength': -1}, {u'timestampNoTzAsDate': False, u'type': u'bigint', u'name': u'site_visits_allowed_part_review_eligibility_investigation', u'maxLength': -1}, {u'timestampNoTzAsDate': False, u'type': u'bigint', u'name': u'eligibility_independent_board', u'maxLength': -1}, {u'timestampNoTzAsDate': False, u'type': u'bigint', u'name': u'waive_prior_attempted_resolution_requirement_dangerous_futile', u'maxLength': -1}, {u'timestampNoTzAsDate': False, u'type': u'bigint', u'name': u'relevant_project_sponsor_formally_respond_claim', u'maxLength': -1}, {u'timestampNoTzAsDate': False, u'type': u'bigint', u'name': u'report_inst_organizational_structure', u'maxLength': -1}, {u'timestampNoTzAsDate': False, u'type': u'bigint', u'name': u'claimant_time_period_respond_rejected_claim', u'maxLength': -1}, {u'timestampNoTzAsDate': False, u'type': u'bigint', u'name': u'investigate_claim_multiple_projects', u'maxLength': -1}, {u'timestampNoTzAsDate': False, u'type': u'bigint', u'name': u'long_take_determine_eligibility_review', u'maxLength': -1}, {u'timestampNoTzAsDate': False, u'type': u'bigint', u'name': u'long_total_process_receipt_request_closing_case', u'maxLength': -1}, {u'timestampNoTzAsDate': False, u'type': u'bigint', u'name': u'request_additional_funds_needed', u'maxLength': -1}, {u'timestampNoTzAsDate': False, u'type': u'bigint', u'name': u'staff_members_forbidden_working_projects_conflict_interest', u'maxLength': -1}, {u'timestampNoTzAsDate': False, u'type': u'bigint', u'name': u'budget_approved_board', u'maxLength': -1}, {u'timestampNoTzAsDate': False, u'type': u'bigint', u'name': u'conduct_site_visit_communicate_outcomes_claimants', u'maxLength': -1}]}\n",
    "\n",
    "ml_dataset_handle = dataiku.Dataset('AC_data_prepared_1_joined')\n",
    "ml_dataset_handle.set_preparation_steps(preparation_steps, preparation_output_schema)\n",
    "%time ml_dataset = ml_dataset_handle.get_dataframe(limit = 100000)\n",
    "\n",
    "print 'Base data has %i rows and %i columns' % (ml_dataset.shape[0], ml_dataset.shape[1])\n",
    "# Five first records\",\n",
    "ml_dataset.head(5)"
   ]
  },
  {
   "cell_type": "markdown",
   "metadata": {},
   "source": [
    "#### Initial data management"
   ]
  },
  {
   "cell_type": "markdown",
   "metadata": {},
   "source": [
    "The preprocessing aims at making the dataset compatible with modeling.\n",
    "At the end of this step, we will have a matrix of float numbers, with no missing values.\n",
    "We'll use the features and the preprocessing steps defined in Models.\n",
    "\n",
    "Let's only keep selected features"
   ]
  },
  {
   "cell_type": "code",
   "execution_count": null,
   "metadata": {},
   "outputs": [],
   "source": [
    "ml_dataset = ml_dataset[[u'claimants_directly_request_compliance_review', u'report_re_outcomes_independent_board', u'bar_staff_worked_institution_previously_long', u'panelists_experts_removed_board_without_cause', u'president_say_hiring_panelists_experts', u'follow_reports_required_written_consultation_claimants', u'office', u'Issue_Other environmental', u'translation_claim_delay_timeframe', u'staff_determine_function_use', u'Issue_Labor', u'board_approve_hiring_panelists_experts', u'claimant_submit_revised_request_later_process', u'public_meetings_held_inform_people_existence_mechanism', u'request_consider_outside_information', u'interview_relevant_staff', u'follow_reports_required_written_consultation_management_project_sponsor', u'Sector_Forestry', u'relevant_department_given_opportunity_cure_concern', u'claimant_live_borrowing_country_project_issue', u'guides_distributed_resident_country_offices', u'claim_allege_specific_violations_institution_policies_procedures', u'staff', u'management_board_say_selection_approval_additional_staff', u'requests_made_public', u'cr_sought_ps_occur_first', u'budget_approved_board', u'Issue_Corruption/fraud', u'policy_contain_restrictions_concerning_past_ongoing_iam_proceedings', u'head_institution_notified_claim_filed', u'source_outside_information_kept_confidential_upon_request', u'claim_list_claimants', u'claim_allege_causal_links_institution_noncompliance_harm', u'management_issue_action_plan_response_finding_non_compliance', u'dedicated_staff_addition_head_director', u'IFI_SupportProject/investment lending', u'IAM', u'Sector_Conservation and environmental protection', u'claim_allege_material_harm', u'hold_public_meetings_local_representatives', u'claim_describe_claimant_attempts_resolve_concerns_filing_claim', u'claimants_comments_draft_findings', u'claim_delivered_person', u'Issue_Human rights', u'select_approve_hiring_panelists_experts', u'Compliance_Report_Issued', u'Issue_Livelihoods', u'claim_writing', u'Issue_Due diligence', u'report_re_outcomes_independent_president', u'management_president_hire_head_director', u'advisory_function', u'claim_delivered_email', u'bar_head_director_worked_institution_previously_long', u'representative_explain_one_community_represent_claimant', u'findings_compliance_review', u'request_relevant_documents', u'staff_meet_potential_claimants', u'ELIGIBLE', u'information_available_institution_national_local_offices', u'report_re_outcomes_independent_institution_staff', u'submit_copy_claim_head_institution', u'draft_findings_made_available_claimant', u'regular_training_institution_staff_headquarters_regarding_mechanism', u'mechanisms_recommendations_findings_made_public_decision_made', u'Issue_Property damage', u'right_appeal_outcome_independent_higher_authority', u'biographical_data_investigators_available_website', u'independent_authority_appoint_investigators', u'panelists_experts_employed_institution_working_long', u'Issue_Procurement', u'claim_request_use_specific_function_compliance_dispute_advisory', u'conduct_problem_solving_completed_projects', u'two_functions_take_place_simultaneously', u'publish_guides_used', u'public_registry_claims_registered', u'panel_members_experts_regularly_trained_regarding_institution_mechanism', u'frequency_follow_reports_released', u'claim_delivered_mail', u'identities_investigators_disclosed_public', u'regular_training_resident_office_staff_regarding_mechanism', u'investigate_claim_multiple_projects', u'draft_recommendations_made_available_management', u'site_visits_allowed_part_review_eligibility_investigation', u'bound_international_institution_confidentiality_disclosure_policies', u'eligibility_independent_president', u'interview_relevant_government_project_officials', u'Issue_Consultation and disclosure', u'request_additional_funds_needed', u'claim_brought_project_approved_institution_board', u'claim_allege_violation_bank_policies_except_procurement_fraud', u'Issue_Gender-based violence', u'sent_fax_email_original_copy_request_sent_mail', u'time_frame_within_claim_brought', u'panelists_experts_also_employees_international_institution', u'website_provide_documents_related_operations', u'Issue_Indigenous peoples', u'within_many_days_receipt_decision_made_regarding_registration', u'use_panel_model_roster_experts_model_conduct_functions', u'time_limit_contract_head_director', u'receive_consent_government_site_visits', u'immediate_acknowledgement_claim_received_within_5_days', u'investigation_extended_beyond_established_time_frame_necessary', u'dedicated_head_director_operations', u'institution_management_president_request_compliance_review', u'clear_instructions_institution_staff_deliver_claim_received', u'Sector_Regulatory Development', u'claim_brought_potential_harm_existing_project', u'IFI_SupportFinancial intermediary', u'eligibility_independent_board', u'prepare_budget', u'claimant_time_period_respond_rejected_claim', u'recommendations', u'conduct_compliance_review_completed_projects', u'claim_brought_full_disbursal_funds', u'problem_solving_dispute_resolution_function', u'website_provide_updates_ongoing_cases', u'seek_additional_information_claim_incomplete', u'upon_request_respond_language_request', u'guides_published_multiple_languages', u'representative_file_claim_behalf_affected_person', u'bar_panelists_experts_worked_institution_previously_long', u'IFI_SupportRisk Guarantee', u'request_made_confidentiality', u'report_inst_organizational_structure', u'Sector_Healthcare', u'problem_solving_eligibility_reports_made_public', u'annual_reports_published_website', u'Sector_Land reform', u'relevant_department_respond_outcome_report', u'claimants_informed_draft_findings_report_made_president_board', u'long_take_determine_eligibility_review', u'claimants_comments_draft_recommendations', u'claim_brought_direct_harm_institution', u'Sector_Extractives', u'president_board_approve_transfer_compliance_review_function_problem_solving', u'parties_confidential_documents_protected_disclosure', u'might_require_pres_management_approval_stage_process', u'Issue_Other community health and safety issues', u'institution_board_directors_request_compliance_review', u'claimants_directly_request_problem_solving', u'claim_delivered_local_country_office_level', u'IFI_SupportAdvisory services', u'claim_delivered_institution_regional_office', u'time_frame_limit_established_cr_investigation_phase', u'conduct_site_visit_communicate_outcomes_claimants', u'head_institution_notified_registers_claim', u'Issue_Violence against the community', u'request_outside_scope_referred_another_department', u'Issue_Other gender-related issues', u'panelists_experts_forbidden_working_projects_conflict_interest', u'external_stakeholders_say_selection_approval_panelists_experts', u'board_hire_head_director', u'claim_suggest_remedies', u'policy_contain_restrictions_concerning_past_ongoing_judicial_arbitral_administrative_proceedings', u'ps_cr_chosen_functions_sequenced', u'public_registry_claims_submitted', u'official_website', u'investigate_project_sponsors_clients', u'gone_ps_satisfy_eligibility_req_good_faith_effort_resolve_compliance_review', u'long_compliance_review_investigation_stage', u'final_compliance_reports_made_public', u'Sector_Chemicals', u'Issue_Biodiversity', u'Issue_Other retaliation', u'jointly_address_claims_regarding_project_another_iam', u'Noncompliance_Found', u'documents_website_available_multiple_languages', u'issue_press_releases_media_communications', u'Sector_Community capacity and development', u'management_prepare_action_plan_consultation_requestors', u'investigate_project_implementers_e_g_contractors', u'compliance_review_function', u'requirements_beyond_need_approval_representative_file_behalf', u'claim_filed_language', u'report_follow_monitoring', u'time_limit_contracts_panelists_experts', u'claim_brought_physical_completion_project', u'public_registry_requests', u'new_information_unknown_unavailable_time_earlier_filing', u'independent_authority_accept_conduct_cr', u'model_online_form_claim_provided_mechanism', u'project_suspended_claim_brought', u'Issue_Cultural heritage', u'public_registry_claims_found_eligible', u'upon_submission_revised_request_process_begin', u'provide_support_drafting_bringing_claim', u'acceptance_claim_entail_preliminary_investigation_mechanism', u'extension_investigation_require_approval_head_institution', u'claims_filed_way_maintains_confidentiality', u'Country_1', u'guides_distributed_institution_areas_project_operation', u'board_directors_notified_claim_filed', u'individual_bring_claim_minimum_number_claimants', u'long_take_determine_function_use', u'long_take_determine_whether_register_claim', u'least_one_site_visit_stage_required', u'institution_management_formally_respond_claim', u'policy_require_new_information_file_new_request', u'oral_argument_used_support_claim', u'default_respond_language_request', u'claims_filed_anonymously', u'Sector_Education', u'authority_conduct_site_visits_investigation_stage', u'issue_follow_monitoring_reports_independently', u'follow_monitoring_reports_made_public', u'claimant_live_project_area', u'draft_recommendations_made_available_claimant', u'eligibility_independent_institution_staff', u'long_problem_solving_stage', u'compliance_eligibility_reports_made_public', u'final_problem_solving_reports_made_public', u'policies_governing_time_delays', u'policy_require_independent_recruitment_staff', u'non_local_representative_bring_claim_showing_adequate_local_representation', u'External_ID', u'request_additional_information_claimant', u'management_comments_draft_recommendations', u'representative_present_written_confirmation_authority_claimant', u'additional_requests_filed_case_project', u'full_time_staff_include_director', u'final_decisions_board_president_made_public', u'request_registered_relevant_department_respond_request', u'Issue_Displacement', u'Issue_Water', u'Sector_Agribusiness', u'Issue_Pollution', u'follow_reports_made_public', u'management_comments_draft_findings', u'Bank', u'guides_pro_actively_distributed_ngos_civil_society_organizations', u'timely_opportunity_withdraw_claim_kept_confidential', u'staff_employed_institution_working_mechanism', u'Sector_Infrastructure', u'waive_prior_attempted_resolution_requirement_dangerous_futile', u'draft_findings_made_available_management', u'claim_describe_attempts_resolve_concerns_relevant_parties_well', u'rejected_requests_revised_refiled', u'monitor_implementation_changes', u'decision_made_regarding_eligibility', u'policy_require_information_distributed_project_sponsors_re_mechanism', u'inform_claimants_claims_failed', u'relevant_project_sponsor_formally_respond_claim', u'Sector_Energy', u'Sector_Manufacturing', u'long_total_process_receipt_request_closing_case', u'staff_members_forbidden_working_projects_conflict_interest', u'staff_panelists_experts_request_compliance_review', u'IFI_SupportEquity Investment', u'transparent_process_selection_approval_panelists_experts', u'affected_parties_notified_course_action_taken']]"
   ]
  },
  {
   "cell_type": "markdown",
   "metadata": {},
   "source": [
    "Let's first coerce categorical columns into unicode, numerical features into floats."
   ]
  },
  {
   "cell_type": "code",
   "execution_count": null,
   "metadata": {},
   "outputs": [],
   "source": [
    "# astype('unicode') does not work as expected\n",
    "def coerce_to_unicode(x):\n",
    "    if isinstance(x, str):\n",
    "        return unicode(x,'utf-8')\n",
    "    else:\n",
    "        return unicode(x)\n",
    "\n",
    "categorical_features = [u'IAM', u'Compliance_Report_Issued', u'Noncompliance_Found', u'Country_1', u'External_ID', u'Bank']\n",
    "numerical_features = [u'claimants_directly_request_compliance_review', u'report_re_outcomes_independent_board', u'bar_staff_worked_institution_previously_long', u'panelists_experts_removed_board_without_cause', u'president_say_hiring_panelists_experts', u'follow_reports_required_written_consultation_claimants', u'office', u'Issue_Other environmental', u'translation_claim_delay_timeframe', u'staff_determine_function_use', u'Issue_Labor', u'board_approve_hiring_panelists_experts', u'claimant_submit_revised_request_later_process', u'public_meetings_held_inform_people_existence_mechanism', u'request_consider_outside_information', u'interview_relevant_staff', u'follow_reports_required_written_consultation_management_project_sponsor', u'Sector_Forestry', u'relevant_department_given_opportunity_cure_concern', u'claimant_live_borrowing_country_project_issue', u'guides_distributed_resident_country_offices', u'claim_allege_specific_violations_institution_policies_procedures', u'staff', u'management_board_say_selection_approval_additional_staff', u'requests_made_public', u'cr_sought_ps_occur_first', u'budget_approved_board', u'Issue_Corruption/fraud', u'policy_contain_restrictions_concerning_past_ongoing_iam_proceedings', u'head_institution_notified_claim_filed', u'source_outside_information_kept_confidential_upon_request', u'claim_list_claimants', u'claim_allege_causal_links_institution_noncompliance_harm', u'management_issue_action_plan_response_finding_non_compliance', u'dedicated_staff_addition_head_director', u'IFI_SupportProject/investment lending', u'Sector_Conservation and environmental protection', u'claim_allege_material_harm', u'hold_public_meetings_local_representatives', u'claim_describe_claimant_attempts_resolve_concerns_filing_claim', u'claimants_comments_draft_findings', u'claim_delivered_person', u'Issue_Human rights', u'select_approve_hiring_panelists_experts', u'Issue_Livelihoods', u'claim_writing', u'Issue_Due diligence', u'report_re_outcomes_independent_president', u'management_president_hire_head_director', u'advisory_function', u'claim_delivered_email', u'bar_head_director_worked_institution_previously_long', u'representative_explain_one_community_represent_claimant', u'findings_compliance_review', u'request_relevant_documents', u'staff_meet_potential_claimants', u'information_available_institution_national_local_offices', u'report_re_outcomes_independent_institution_staff', u'submit_copy_claim_head_institution', u'draft_findings_made_available_claimant', u'regular_training_institution_staff_headquarters_regarding_mechanism', u'mechanisms_recommendations_findings_made_public_decision_made', u'Issue_Property damage', u'right_appeal_outcome_independent_higher_authority', u'biographical_data_investigators_available_website', u'independent_authority_appoint_investigators', u'panelists_experts_employed_institution_working_long', u'Issue_Procurement', u'claim_request_use_specific_function_compliance_dispute_advisory', u'conduct_problem_solving_completed_projects', u'two_functions_take_place_simultaneously', u'publish_guides_used', u'public_registry_claims_registered', u'panel_members_experts_regularly_trained_regarding_institution_mechanism', u'frequency_follow_reports_released', u'claim_delivered_mail', u'identities_investigators_disclosed_public', u'regular_training_resident_office_staff_regarding_mechanism', u'investigate_claim_multiple_projects', u'draft_recommendations_made_available_management', u'site_visits_allowed_part_review_eligibility_investigation', u'bound_international_institution_confidentiality_disclosure_policies', u'eligibility_independent_president', u'interview_relevant_government_project_officials', u'Issue_Consultation and disclosure', u'request_additional_funds_needed', u'claim_brought_project_approved_institution_board', u'claim_allege_violation_bank_policies_except_procurement_fraud', u'Issue_Gender-based violence', u'sent_fax_email_original_copy_request_sent_mail', u'time_frame_within_claim_brought', u'panelists_experts_also_employees_international_institution', u'website_provide_documents_related_operations', u'Issue_Indigenous peoples', u'within_many_days_receipt_decision_made_regarding_registration', u'use_panel_model_roster_experts_model_conduct_functions', u'time_limit_contract_head_director', u'receive_consent_government_site_visits', u'immediate_acknowledgement_claim_received_within_5_days', u'investigation_extended_beyond_established_time_frame_necessary', u'dedicated_head_director_operations', u'institution_management_president_request_compliance_review', u'clear_instructions_institution_staff_deliver_claim_received', u'Sector_Regulatory Development', u'claim_brought_potential_harm_existing_project', u'IFI_SupportFinancial intermediary', u'eligibility_independent_board', u'prepare_budget', u'claimant_time_period_respond_rejected_claim', u'recommendations', u'conduct_compliance_review_completed_projects', u'claim_brought_full_disbursal_funds', u'problem_solving_dispute_resolution_function', u'website_provide_updates_ongoing_cases', u'seek_additional_information_claim_incomplete', u'upon_request_respond_language_request', u'guides_published_multiple_languages', u'representative_file_claim_behalf_affected_person', u'bar_panelists_experts_worked_institution_previously_long', u'IFI_SupportRisk Guarantee', u'request_made_confidentiality', u'report_inst_organizational_structure', u'Sector_Healthcare', u'problem_solving_eligibility_reports_made_public', u'annual_reports_published_website', u'Sector_Land reform', u'relevant_department_respond_outcome_report', u'claimants_informed_draft_findings_report_made_president_board', u'long_take_determine_eligibility_review', u'claimants_comments_draft_recommendations', u'claim_brought_direct_harm_institution', u'Sector_Extractives', u'president_board_approve_transfer_compliance_review_function_problem_solving', u'parties_confidential_documents_protected_disclosure', u'might_require_pres_management_approval_stage_process', u'Issue_Other community health and safety issues', u'institution_board_directors_request_compliance_review', u'claimants_directly_request_problem_solving', u'claim_delivered_local_country_office_level', u'IFI_SupportAdvisory services', u'claim_delivered_institution_regional_office', u'time_frame_limit_established_cr_investigation_phase', u'conduct_site_visit_communicate_outcomes_claimants', u'head_institution_notified_registers_claim', u'Issue_Violence against the community', u'request_outside_scope_referred_another_department', u'Issue_Other gender-related issues', u'panelists_experts_forbidden_working_projects_conflict_interest', u'external_stakeholders_say_selection_approval_panelists_experts', u'board_hire_head_director', u'claim_suggest_remedies', u'policy_contain_restrictions_concerning_past_ongoing_judicial_arbitral_administrative_proceedings', u'ps_cr_chosen_functions_sequenced', u'public_registry_claims_submitted', u'official_website', u'investigate_project_sponsors_clients', u'gone_ps_satisfy_eligibility_req_good_faith_effort_resolve_compliance_review', u'long_compliance_review_investigation_stage', u'final_compliance_reports_made_public', u'Sector_Chemicals', u'Issue_Biodiversity', u'Issue_Other retaliation', u'jointly_address_claims_regarding_project_another_iam', u'documents_website_available_multiple_languages', u'issue_press_releases_media_communications', u'Sector_Community capacity and development', u'management_prepare_action_plan_consultation_requestors', u'investigate_project_implementers_e_g_contractors', u'compliance_review_function', u'requirements_beyond_need_approval_representative_file_behalf', u'claim_filed_language', u'report_follow_monitoring', u'time_limit_contracts_panelists_experts', u'claim_brought_physical_completion_project', u'public_registry_requests', u'new_information_unknown_unavailable_time_earlier_filing', u'independent_authority_accept_conduct_cr', u'model_online_form_claim_provided_mechanism', u'project_suspended_claim_brought', u'Issue_Cultural heritage', u'public_registry_claims_found_eligible', u'upon_submission_revised_request_process_begin', u'provide_support_drafting_bringing_claim', u'acceptance_claim_entail_preliminary_investigation_mechanism', u'extension_investigation_require_approval_head_institution', u'claims_filed_way_maintains_confidentiality', u'guides_distributed_institution_areas_project_operation', u'board_directors_notified_claim_filed', u'individual_bring_claim_minimum_number_claimants', u'long_take_determine_function_use', u'long_take_determine_whether_register_claim', u'least_one_site_visit_stage_required', u'institution_management_formally_respond_claim', u'policy_require_new_information_file_new_request', u'oral_argument_used_support_claim', u'default_respond_language_request', u'claims_filed_anonymously', u'Sector_Education', u'authority_conduct_site_visits_investigation_stage', u'issue_follow_monitoring_reports_independently', u'follow_monitoring_reports_made_public', u'claimant_live_project_area', u'draft_recommendations_made_available_claimant', u'eligibility_independent_institution_staff', u'long_problem_solving_stage', u'compliance_eligibility_reports_made_public', u'final_problem_solving_reports_made_public', u'policies_governing_time_delays', u'policy_require_independent_recruitment_staff', u'non_local_representative_bring_claim_showing_adequate_local_representation', u'request_additional_information_claimant', u'management_comments_draft_recommendations', u'representative_present_written_confirmation_authority_claimant', u'additional_requests_filed_case_project', u'full_time_staff_include_director', u'final_decisions_board_president_made_public', u'request_registered_relevant_department_respond_request', u'Issue_Displacement', u'Issue_Water', u'Sector_Agribusiness', u'Issue_Pollution', u'follow_reports_made_public', u'management_comments_draft_findings', u'guides_pro_actively_distributed_ngos_civil_society_organizations', u'timely_opportunity_withdraw_claim_kept_confidential', u'staff_employed_institution_working_mechanism', u'Sector_Infrastructure', u'waive_prior_attempted_resolution_requirement_dangerous_futile', u'draft_findings_made_available_management', u'claim_describe_attempts_resolve_concerns_relevant_parties_well', u'rejected_requests_revised_refiled', u'monitor_implementation_changes', u'decision_made_regarding_eligibility', u'policy_require_information_distributed_project_sponsors_re_mechanism', u'inform_claimants_claims_failed', u'relevant_project_sponsor_formally_respond_claim', u'Sector_Energy', u'Sector_Manufacturing', u'long_total_process_receipt_request_closing_case', u'staff_members_forbidden_working_projects_conflict_interest', u'staff_panelists_experts_request_compliance_review', u'IFI_SupportEquity Investment', u'transparent_process_selection_approval_panelists_experts', u'affected_parties_notified_course_action_taken']\n",
    "text_features = []\n",
    "from dataiku.doctor.utils import datetime_to_epoch\n",
    "for feature in categorical_features:\n",
    "    ml_dataset[feature] = ml_dataset[feature].apply(coerce_to_unicode)\n",
    "for feature in text_features:\n",
    "    ml_dataset[feature] = ml_dataset[feature].apply(coerce_to_unicode)\n",
    "for feature in numerical_features:\n",
    "    if ml_dataset[feature].dtype == np.dtype('M8[ns]'):\n",
    "        ml_dataset[feature] = datetime_to_epoch(ml_dataset[feature])\n",
    "    else:\n",
    "        ml_dataset[feature] = ml_dataset[feature].astype('double')"
   ]
  },
  {
   "cell_type": "markdown",
   "metadata": {},
   "source": [
    "We are now going to handle the target variable and store it in a new variable:"
   ]
  },
  {
   "cell_type": "code",
   "execution_count": null,
   "metadata": {},
   "outputs": [],
   "source": [
    "target_map = {u'1': 1, u'0': 0}\n",
    "ml_dataset['__target__'] = ml_dataset['ELIGIBLE'].map(str).map(target_map)\n",
    "del ml_dataset['ELIGIBLE']\n",
    "\n",
    "\n",
    "# Remove rows for which the target is unknown.\n",
    "ml_dataset = ml_dataset[~ml_dataset['__target__'].isnull()]"
   ]
  },
  {
   "cell_type": "markdown",
   "metadata": {},
   "source": [
    "#### Cross-validation strategy"
   ]
  },
  {
   "cell_type": "markdown",
   "metadata": {},
   "source": [
    "The dataset needs to be split into 2 new sets, one that will be used for training the model (train set)\n",
    "and another that will be used to test its generalization capability (test set)"
   ]
  },
  {
   "cell_type": "markdown",
   "metadata": {},
   "source": [
    "This is a simple cross-validation strategy."
   ]
  },
  {
   "cell_type": "code",
   "execution_count": null,
   "metadata": {},
   "outputs": [],
   "source": [
    "train, test = pdu.split_train_valid(ml_dataset, prop=0.8)\n",
    "print 'Train data has %i rows and %i columns' % (train.shape[0], train.shape[1])\n",
    "print 'Test data has %i rows and %i columns' % (test.shape[0], test.shape[1])"
   ]
  },
  {
   "cell_type": "markdown",
   "metadata": {},
   "source": [
    "#### Features preprocessing"
   ]
  },
  {
   "cell_type": "markdown",
   "metadata": {},
   "source": [
    "The first thing to do at the features level is to handle the missing values.\n",
    "Let's reuse the settings defined in the model"
   ]
  },
  {
   "cell_type": "code",
   "execution_count": null,
   "metadata": {},
   "outputs": [],
   "source": [
    "drop_rows_when_missing = []\n",
    "impute_when_missing = [{'impute_with': u'CONSTANT', 'feature': u'claimants_directly_request_compliance_review', 'value': 0.0}, {'impute_with': u'MEAN', 'feature': u'report_re_outcomes_independent_board'}, {'impute_with': u'MEAN', 'feature': u'bar_staff_worked_institution_previously_long'}, {'impute_with': u'MEDIAN', 'feature': u'panelists_experts_removed_board_without_cause'}, {'impute_with': u'MEAN', 'feature': u'president_say_hiring_panelists_experts'}, {'impute_with': u'MEAN', 'feature': u'follow_reports_required_written_consultation_claimants'}, {'impute_with': u'MEAN', 'feature': u'office'}, {'impute_with': u'CONSTANT', 'feature': u'Issue_Other environmental', 'value': 0.0}, {'impute_with': u'CONSTANT', 'feature': u'translation_claim_delay_timeframe', 'value': 0.0}, {'impute_with': u'MEAN', 'feature': u'staff_determine_function_use'}, {'impute_with': u'CONSTANT', 'feature': u'Issue_Labor', 'value': 0.0}, {'impute_with': u'MEAN', 'feature': u'board_approve_hiring_panelists_experts'}, {'impute_with': u'CONSTANT', 'feature': u'claimant_submit_revised_request_later_process', 'value': 0.0}, {'impute_with': u'CONSTANT', 'feature': u'public_meetings_held_inform_people_existence_mechanism', 'value': 0.0}, {'impute_with': u'CONSTANT', 'feature': u'request_consider_outside_information', 'value': 0.0}, {'impute_with': u'CONSTANT', 'feature': u'interview_relevant_staff', 'value': 0.0}, {'impute_with': u'MEAN', 'feature': u'follow_reports_required_written_consultation_management_project_sponsor'}, {'impute_with': u'CONSTANT', 'feature': u'Sector_Forestry', 'value': 0.0}, {'impute_with': u'CONSTANT', 'feature': u'relevant_department_given_opportunity_cure_concern', 'value': 0.0}, {'impute_with': u'MEAN', 'feature': u'claimant_live_borrowing_country_project_issue'}, {'impute_with': u'CONSTANT', 'feature': u'guides_distributed_resident_country_offices', 'value': 0.0}, {'impute_with': u'MEAN', 'feature': u'claim_allege_specific_violations_institution_policies_procedures'}, {'impute_with': u'CONSTANT', 'feature': u'staff', 'value': 0.0}, {'impute_with': u'MEAN', 'feature': u'management_board_say_selection_approval_additional_staff'}, {'impute_with': u'MEAN', 'feature': u'requests_made_public'}, {'impute_with': u'MEDIAN', 'feature': u'cr_sought_ps_occur_first'}, {'impute_with': u'MEAN', 'feature': u'budget_approved_board'}, {'impute_with': u'CONSTANT', 'feature': u'Issue_Corruption/fraud', 'value': 0.0}, {'impute_with': u'MEAN', 'feature': u'policy_contain_restrictions_concerning_past_ongoing_iam_proceedings'}, {'impute_with': u'MEAN', 'feature': u'head_institution_notified_claim_filed'}, {'impute_with': u'CONSTANT', 'feature': u'source_outside_information_kept_confidential_upon_request', 'value': 0.0}, {'impute_with': u'CONSTANT', 'feature': u'claim_list_claimants', 'value': 0.0}, {'impute_with': u'MEAN', 'feature': u'claim_allege_causal_links_institution_noncompliance_harm'}, {'impute_with': u'MEAN', 'feature': u'management_issue_action_plan_response_finding_non_compliance'}, {'impute_with': u'CONSTANT', 'feature': u'dedicated_staff_addition_head_director', 'value': 0.0}, {'impute_with': u'CONSTANT', 'feature': u'IFI_SupportProject/investment lending', 'value': 0.0}, {'impute_with': u'CONSTANT', 'feature': u'Sector_Conservation and environmental protection', 'value': 0.0}, {'impute_with': u'MEAN', 'feature': u'claim_allege_material_harm'}, {'impute_with': u'CONSTANT', 'feature': u'hold_public_meetings_local_representatives', 'value': 0.0}, {'impute_with': u'MEAN', 'feature': u'claim_describe_claimant_attempts_resolve_concerns_filing_claim'}, {'impute_with': u'MEAN', 'feature': u'claimants_comments_draft_findings'}, {'impute_with': u'CONSTANT', 'feature': u'claim_delivered_person', 'value': 0.0}, {'impute_with': u'CONSTANT', 'feature': u'Issue_Human rights', 'value': 0.0}, {'impute_with': u'MEAN', 'feature': u'select_approve_hiring_panelists_experts'}, {'impute_with': u'CONSTANT', 'feature': u'Issue_Livelihoods', 'value': 0.0}, {'impute_with': u'CONSTANT', 'feature': u'claim_writing', 'value': 0.0}, {'impute_with': u'CONSTANT', 'feature': u'Issue_Due diligence', 'value': 0.0}, {'impute_with': u'CONSTANT', 'feature': u'report_re_outcomes_independent_president', 'value': 0.0}, {'impute_with': u'MEAN', 'feature': u'management_president_hire_head_director'}, {'impute_with': u'MEAN', 'feature': u'advisory_function'}, {'impute_with': u'CONSTANT', 'feature': u'claim_delivered_email', 'value': 0.0}, {'impute_with': u'MEAN', 'feature': u'bar_head_director_worked_institution_previously_long'}, {'impute_with': u'MEAN', 'feature': u'representative_explain_one_community_represent_claimant'}, {'impute_with': u'CONSTANT', 'feature': u'findings_compliance_review', 'value': 0.0}, {'impute_with': u'CONSTANT', 'feature': u'request_relevant_documents', 'value': 0.0}, {'impute_with': u'CONSTANT', 'feature': u'staff_meet_potential_claimants', 'value': 0.0}, {'impute_with': u'MEAN', 'feature': u'information_available_institution_national_local_offices'}, {'impute_with': u'MEAN', 'feature': u'report_re_outcomes_independent_institution_staff'}, {'impute_with': u'MEAN', 'feature': u'submit_copy_claim_head_institution'}, {'impute_with': u'MEAN', 'feature': u'draft_findings_made_available_claimant'}, {'impute_with': u'CONSTANT', 'feature': u'regular_training_institution_staff_headquarters_regarding_mechanism', 'value': 0.0}, {'impute_with': u'CONSTANT', 'feature': u'mechanisms_recommendations_findings_made_public_decision_made', 'value': 0.0}, {'impute_with': u'CONSTANT', 'feature': u'Issue_Property damage', 'value': 0.0}, {'impute_with': u'MEAN', 'feature': u'right_appeal_outcome_independent_higher_authority'}, {'impute_with': u'MEAN', 'feature': u'biographical_data_investigators_available_website'}, {'impute_with': u'CONSTANT', 'feature': u'independent_authority_appoint_investigators', 'value': 0.0}, {'impute_with': u'MEAN', 'feature': u'panelists_experts_employed_institution_working_long'}, {'impute_with': u'CONSTANT', 'feature': u'Issue_Procurement', 'value': 0.0}, {'impute_with': u'CONSTANT', 'feature': u'claim_request_use_specific_function_compliance_dispute_advisory', 'value': 0.0}, {'impute_with': u'MEAN', 'feature': u'conduct_problem_solving_completed_projects'}, {'impute_with': u'MEDIAN', 'feature': u'two_functions_take_place_simultaneously'}, {'impute_with': u'CONSTANT', 'feature': u'publish_guides_used', 'value': 0.0}, {'impute_with': u'CONSTANT', 'feature': u'public_registry_claims_registered', 'value': 0.0}, {'impute_with': u'CONSTANT', 'feature': u'panel_members_experts_regularly_trained_regarding_institution_mechanism', 'value': 0.0}, {'impute_with': u'MEAN', 'feature': u'frequency_follow_reports_released'}, {'impute_with': u'CONSTANT', 'feature': u'claim_delivered_mail', 'value': 0.0}, {'impute_with': u'MEDIAN', 'feature': u'identities_investigators_disclosed_public'}, {'impute_with': u'CONSTANT', 'feature': u'regular_training_resident_office_staff_regarding_mechanism', 'value': 0.0}, {'impute_with': u'MEAN', 'feature': u'investigate_claim_multiple_projects'}, {'impute_with': u'CONSTANT', 'feature': u'draft_recommendations_made_available_management', 'value': 0.0}, {'impute_with': u'CONSTANT', 'feature': u'site_visits_allowed_part_review_eligibility_investigation', 'value': 0.0}, {'impute_with': u'CONSTANT', 'feature': u'bound_international_institution_confidentiality_disclosure_policies', 'value': 0.0}, {'impute_with': u'MEAN', 'feature': u'eligibility_independent_president'}, {'impute_with': u'CONSTANT', 'feature': u'interview_relevant_government_project_officials', 'value': 0.0}, {'impute_with': u'CONSTANT', 'feature': u'Issue_Consultation and disclosure', 'value': 0.0}, {'impute_with': u'CONSTANT', 'feature': u'request_additional_funds_needed', 'value': 0.0}, {'impute_with': u'MEAN', 'feature': u'claim_brought_project_approved_institution_board'}, {'impute_with': u'MEAN', 'feature': u'claim_allege_violation_bank_policies_except_procurement_fraud'}, {'impute_with': u'CONSTANT', 'feature': u'Issue_Gender-based violence', 'value': 0.0}, {'impute_with': u'MEDIAN', 'feature': u'sent_fax_email_original_copy_request_sent_mail'}, {'impute_with': u'CONSTANT', 'feature': u'time_frame_within_claim_brought', 'value': 0.0}, {'impute_with': u'MEAN', 'feature': u'panelists_experts_also_employees_international_institution'}, {'impute_with': u'CONSTANT', 'feature': u'website_provide_documents_related_operations', 'value': 0.0}, {'impute_with': u'CONSTANT', 'feature': u'Issue_Indigenous peoples', 'value': 0.0}, {'impute_with': u'MEAN', 'feature': u'within_many_days_receipt_decision_made_regarding_registration'}, {'impute_with': u'CONSTANT', 'feature': u'use_panel_model_roster_experts_model_conduct_functions', 'value': 0.0}, {'impute_with': u'CONSTANT', 'feature': u'time_limit_contract_head_director', 'value': 0.0}, {'impute_with': u'MEAN', 'feature': u'receive_consent_government_site_visits'}, {'impute_with': u'MEAN', 'feature': u'immediate_acknowledgement_claim_received_within_5_days'}, {'impute_with': u'CONSTANT', 'feature': u'investigation_extended_beyond_established_time_frame_necessary', 'value': 0.0}, {'impute_with': u'CONSTANT', 'feature': u'dedicated_head_director_operations', 'value': 0.0}, {'impute_with': u'MEAN', 'feature': u'institution_management_president_request_compliance_review'}, {'impute_with': u'MEAN', 'feature': u'clear_instructions_institution_staff_deliver_claim_received'}, {'impute_with': u'CONSTANT', 'feature': u'Sector_Regulatory Development', 'value': 0.0}, {'impute_with': u'CONSTANT', 'feature': u'claim_brought_potential_harm_existing_project', 'value': 0.0}, {'impute_with': u'CONSTANT', 'feature': u'IFI_SupportFinancial intermediary', 'value': 0.0}, {'impute_with': u'CONSTANT', 'feature': u'eligibility_independent_board', 'value': 0.0}, {'impute_with': u'MEAN', 'feature': u'prepare_budget'}, {'impute_with': u'MEAN', 'feature': u'claimant_time_period_respond_rejected_claim'}, {'impute_with': u'MEAN', 'feature': u'recommendations'}, {'impute_with': u'MEAN', 'feature': u'conduct_compliance_review_completed_projects'}, {'impute_with': u'MEAN', 'feature': u'claim_brought_full_disbursal_funds'}, {'impute_with': u'MEAN', 'feature': u'problem_solving_dispute_resolution_function'}, {'impute_with': u'CONSTANT', 'feature': u'website_provide_updates_ongoing_cases', 'value': 0.0}, {'impute_with': u'CONSTANT', 'feature': u'seek_additional_information_claim_incomplete', 'value': 0.0}, {'impute_with': u'CONSTANT', 'feature': u'upon_request_respond_language_request', 'value': 0.0}, {'impute_with': u'CONSTANT', 'feature': u'guides_published_multiple_languages', 'value': 0.0}, {'impute_with': u'CONSTANT', 'feature': u'representative_file_claim_behalf_affected_person', 'value': 0.0}, {'impute_with': u'MEAN', 'feature': u'bar_panelists_experts_worked_institution_previously_long'}, {'impute_with': u'CONSTANT', 'feature': u'IFI_SupportRisk Guarantee', 'value': 0.0}, {'impute_with': u'MEAN', 'feature': u'request_made_confidentiality'}, {'impute_with': u'CONSTANT', 'feature': u'report_inst_organizational_structure', 'value': 0.0}, {'impute_with': u'CONSTANT', 'feature': u'Sector_Healthcare', 'value': 0.0}, {'impute_with': u'CONSTANT', 'feature': u'problem_solving_eligibility_reports_made_public', 'value': 0.0}, {'impute_with': u'CONSTANT', 'feature': u'annual_reports_published_website', 'value': 0.0}, {'impute_with': u'CONSTANT', 'feature': u'Sector_Land reform', 'value': 0.0}, {'impute_with': u'MEAN', 'feature': u'relevant_department_respond_outcome_report'}, {'impute_with': u'MEAN', 'feature': u'claimants_informed_draft_findings_report_made_president_board'}, {'impute_with': u'MEAN', 'feature': u'long_take_determine_eligibility_review'}, {'impute_with': u'MEAN', 'feature': u'claimants_comments_draft_recommendations'}, {'impute_with': u'MEAN', 'feature': u'claim_brought_direct_harm_institution'}, {'impute_with': u'CONSTANT', 'feature': u'Sector_Extractives', 'value': 0.0}, {'impute_with': u'MEAN', 'feature': u'president_board_approve_transfer_compliance_review_function_problem_solving'}, {'impute_with': u'CONSTANT', 'feature': u'parties_confidential_documents_protected_disclosure', 'value': 0.0}, {'impute_with': u'MEAN', 'feature': u'might_require_pres_management_approval_stage_process'}, {'impute_with': u'CONSTANT', 'feature': u'Issue_Other community health and safety issues', 'value': 0.0}, {'impute_with': u'CONSTANT', 'feature': u'institution_board_directors_request_compliance_review', 'value': 0.0}, {'impute_with': u'CONSTANT', 'feature': u'claimants_directly_request_problem_solving', 'value': 0.0}, {'impute_with': u'MEAN', 'feature': u'claim_delivered_local_country_office_level'}, {'impute_with': u'CONSTANT', 'feature': u'IFI_SupportAdvisory services', 'value': 0.0}, {'impute_with': u'MEAN', 'feature': u'claim_delivered_institution_regional_office'}, {'impute_with': u'MEAN', 'feature': u'time_frame_limit_established_cr_investigation_phase'}, {'impute_with': u'CONSTANT', 'feature': u'conduct_site_visit_communicate_outcomes_claimants', 'value': 0.0}, {'impute_with': u'MEAN', 'feature': u'head_institution_notified_registers_claim'}, {'impute_with': u'CONSTANT', 'feature': u'Issue_Violence against the community', 'value': 0.0}, {'impute_with': u'CONSTANT', 'feature': u'request_outside_scope_referred_another_department', 'value': 0.0}, {'impute_with': u'CONSTANT', 'feature': u'Issue_Other gender-related issues', 'value': 0.0}, {'impute_with': u'CONSTANT', 'feature': u'panelists_experts_forbidden_working_projects_conflict_interest', 'value': 0.0}, {'impute_with': u'MEAN', 'feature': u'external_stakeholders_say_selection_approval_panelists_experts'}, {'impute_with': u'MEAN', 'feature': u'board_hire_head_director'}, {'impute_with': u'MEAN', 'feature': u'claim_suggest_remedies'}, {'impute_with': u'MEAN', 'feature': u'policy_contain_restrictions_concerning_past_ongoing_judicial_arbitral_administrative_proceedings'}, {'impute_with': u'CONSTANT', 'feature': u'ps_cr_chosen_functions_sequenced', 'value': 0.0}, {'impute_with': u'MEAN', 'feature': u'public_registry_claims_submitted'}, {'impute_with': u'CONSTANT', 'feature': u'official_website', 'value': 0.0}, {'impute_with': u'MEDIAN', 'feature': u'investigate_project_sponsors_clients'}, {'impute_with': u'MEDIAN', 'feature': u'gone_ps_satisfy_eligibility_req_good_faith_effort_resolve_compliance_review'}, {'impute_with': u'MEAN', 'feature': u'long_compliance_review_investigation_stage'}, {'impute_with': u'CONSTANT', 'feature': u'final_compliance_reports_made_public', 'value': 0.0}, {'impute_with': u'CONSTANT', 'feature': u'Sector_Chemicals', 'value': 0.0}, {'impute_with': u'CONSTANT', 'feature': u'Issue_Biodiversity', 'value': 0.0}, {'impute_with': u'CONSTANT', 'feature': u'Issue_Other retaliation', 'value': 0.0}, {'impute_with': u'CONSTANT', 'feature': u'jointly_address_claims_regarding_project_another_iam', 'value': 0.0}, {'impute_with': u'CONSTANT', 'feature': u'documents_website_available_multiple_languages', 'value': 0.0}, {'impute_with': u'CONSTANT', 'feature': u'issue_press_releases_media_communications', 'value': 0.0}, {'impute_with': u'CONSTANT', 'feature': u'Sector_Community capacity and development', 'value': 0.0}, {'impute_with': u'MEAN', 'feature': u'management_prepare_action_plan_consultation_requestors'}, {'impute_with': u'MEDIAN', 'feature': u'investigate_project_implementers_e_g_contractors'}, {'impute_with': u'CONSTANT', 'feature': u'compliance_review_function', 'value': 0.0}, {'impute_with': u'MEAN', 'feature': u'requirements_beyond_need_approval_representative_file_behalf'}, {'impute_with': u'MEAN', 'feature': u'claim_filed_language'}, {'impute_with': u'CONSTANT', 'feature': u'report_follow_monitoring', 'value': 0.0}, {'impute_with': u'CONSTANT', 'feature': u'time_limit_contracts_panelists_experts', 'value': 0.0}, {'impute_with': u'MEAN', 'feature': u'claim_brought_physical_completion_project'}, {'impute_with': u'MEAN', 'feature': u'public_registry_requests'}, {'impute_with': u'MEAN', 'feature': u'new_information_unknown_unavailable_time_earlier_filing'}, {'impute_with': u'MEAN', 'feature': u'independent_authority_accept_conduct_cr'}, {'impute_with': u'CONSTANT', 'feature': u'model_online_form_claim_provided_mechanism', 'value': 0.0}, {'impute_with': u'MEDIAN', 'feature': u'project_suspended_claim_brought'}, {'impute_with': u'CONSTANT', 'feature': u'Issue_Cultural heritage', 'value': 0.0}, {'impute_with': u'CONSTANT', 'feature': u'public_registry_claims_found_eligible', 'value': 0.0}, {'impute_with': u'MEAN', 'feature': u'upon_submission_revised_request_process_begin'}, {'impute_with': u'CONSTANT', 'feature': u'provide_support_drafting_bringing_claim', 'value': 0.0}, {'impute_with': u'MEAN', 'feature': u'acceptance_claim_entail_preliminary_investigation_mechanism'}, {'impute_with': u'MEDIAN', 'feature': u'extension_investigation_require_approval_head_institution'}, {'impute_with': u'CONSTANT', 'feature': u'claims_filed_way_maintains_confidentiality', 'value': 0.0}, {'impute_with': u'CONSTANT', 'feature': u'guides_distributed_institution_areas_project_operation', 'value': 0.0}, {'impute_with': u'MEAN', 'feature': u'board_directors_notified_claim_filed'}, {'impute_with': u'MEAN', 'feature': u'individual_bring_claim_minimum_number_claimants'}, {'impute_with': u'MEAN', 'feature': u'long_take_determine_function_use'}, {'impute_with': u'MEAN', 'feature': u'long_take_determine_whether_register_claim'}, {'impute_with': u'MEDIAN', 'feature': u'least_one_site_visit_stage_required'}, {'impute_with': u'CONSTANT', 'feature': u'institution_management_formally_respond_claim', 'value': 0.0}, {'impute_with': u'MEAN', 'feature': u'policy_require_new_information_file_new_request'}, {'impute_with': u'CONSTANT', 'feature': u'oral_argument_used_support_claim', 'value': 0.0}, {'impute_with': u'MEAN', 'feature': u'default_respond_language_request'}, {'impute_with': u'MEDIAN', 'feature': u'claims_filed_anonymously'}, {'impute_with': u'CONSTANT', 'feature': u'Sector_Education', 'value': 0.0}, {'impute_with': u'CONSTANT', 'feature': u'authority_conduct_site_visits_investigation_stage', 'value': 0.0}, {'impute_with': u'MEAN', 'feature': u'issue_follow_monitoring_reports_independently'}, {'impute_with': u'MEAN', 'feature': u'follow_monitoring_reports_made_public'}, {'impute_with': u'MEDIAN', 'feature': u'claimant_live_project_area'}, {'impute_with': u'MEAN', 'feature': u'draft_recommendations_made_available_claimant'}, {'impute_with': u'CONSTANT', 'feature': u'eligibility_independent_institution_staff', 'value': 0.0}, {'impute_with': u'MEAN', 'feature': u'long_problem_solving_stage'}, {'impute_with': u'CONSTANT', 'feature': u'compliance_eligibility_reports_made_public', 'value': 0.0}, {'impute_with': u'CONSTANT', 'feature': u'final_problem_solving_reports_made_public', 'value': 0.0}, {'impute_with': u'MEAN', 'feature': u'policies_governing_time_delays'}, {'impute_with': u'MEAN', 'feature': u'policy_require_independent_recruitment_staff'}, {'impute_with': u'MEAN', 'feature': u'non_local_representative_bring_claim_showing_adequate_local_representation'}, {'impute_with': u'CONSTANT', 'feature': u'request_additional_information_claimant', 'value': 0.0}, {'impute_with': u'CONSTANT', 'feature': u'management_comments_draft_recommendations', 'value': 0.0}, {'impute_with': u'MEAN', 'feature': u'representative_present_written_confirmation_authority_claimant'}, {'impute_with': u'CONSTANT', 'feature': u'additional_requests_filed_case_project', 'value': 0.0}, {'impute_with': u'CONSTANT', 'feature': u'full_time_staff_include_director', 'value': 0.0}, {'impute_with': u'CONSTANT', 'feature': u'final_decisions_board_president_made_public', 'value': 0.0}, {'impute_with': u'MEAN', 'feature': u'request_registered_relevant_department_respond_request'}, {'impute_with': u'CONSTANT', 'feature': u'Issue_Displacement', 'value': 0.0}, {'impute_with': u'CONSTANT', 'feature': u'Issue_Water', 'value': 0.0}, {'impute_with': u'CONSTANT', 'feature': u'Sector_Agribusiness', 'value': 0.0}, {'impute_with': u'CONSTANT', 'feature': u'Issue_Pollution', 'value': 0.0}, {'impute_with': u'MEAN', 'feature': u'follow_reports_made_public'}, {'impute_with': u'CONSTANT', 'feature': u'management_comments_draft_findings', 'value': 0.0}, {'impute_with': u'CONSTANT', 'feature': u'guides_pro_actively_distributed_ngos_civil_society_organizations', 'value': 0.0}, {'impute_with': u'CONSTANT', 'feature': u'timely_opportunity_withdraw_claim_kept_confidential', 'value': 0.0}, {'impute_with': u'MEAN', 'feature': u'staff_employed_institution_working_mechanism'}, {'impute_with': u'CONSTANT', 'feature': u'Sector_Infrastructure', 'value': 0.0}, {'impute_with': u'CONSTANT', 'feature': u'waive_prior_attempted_resolution_requirement_dangerous_futile', 'value': 0.0}, {'impute_with': u'CONSTANT', 'feature': u'draft_findings_made_available_management', 'value': 0.0}, {'impute_with': u'MEAN', 'feature': u'claim_describe_attempts_resolve_concerns_relevant_parties_well'}, {'impute_with': u'CONSTANT', 'feature': u'rejected_requests_revised_refiled', 'value': 0.0}, {'impute_with': u'MEAN', 'feature': u'monitor_implementation_changes'}, {'impute_with': u'MEAN', 'feature': u'decision_made_regarding_eligibility'}, {'impute_with': u'MEAN', 'feature': u'policy_require_information_distributed_project_sponsors_re_mechanism'}, {'impute_with': u'CONSTANT', 'feature': u'inform_claimants_claims_failed', 'value': 0.0}, {'impute_with': u'CONSTANT', 'feature': u'relevant_project_sponsor_formally_respond_claim', 'value': 0.0}, {'impute_with': u'CONSTANT', 'feature': u'Sector_Energy', 'value': 0.0}, {'impute_with': u'CONSTANT', 'feature': u'Sector_Manufacturing', 'value': 0.0}, {'impute_with': u'MEDIAN', 'feature': u'long_total_process_receipt_request_closing_case'}, {'impute_with': u'CONSTANT', 'feature': u'staff_members_forbidden_working_projects_conflict_interest', 'value': 0.0}, {'impute_with': u'MEAN', 'feature': u'staff_panelists_experts_request_compliance_review'}, {'impute_with': u'CONSTANT', 'feature': u'IFI_SupportEquity Investment', 'value': 0.0}, {'impute_with': u'MEAN', 'feature': u'transparent_process_selection_approval_panelists_experts'}, {'impute_with': u'MEAN', 'feature': u'affected_parties_notified_course_action_taken'}]\n",
    "\n",
    "# Features for which we drop rows with missing values\"\n",
    "for feature in drop_rows_when_missing:\n",
    "    train = train[train[feature].notnull()]\n",
    "    test = test[test[feature].notnull()]\n",
    "    print 'Dropped missing records in %s' % feature\n",
    "\n",
    "# Features for which we impute missing values\"\n",
    "for feature in impute_when_missing:\n",
    "    if feature['impute_with'] == 'MEAN':\n",
    "        v = train[feature['feature']].mean()\n",
    "    elif feature['impute_with'] == 'MEDIAN':\n",
    "        v = train[feature['feature']].median()\n",
    "    elif feature['impute_with'] == 'CREATE_CATEGORY':\n",
    "        v = 'NULL_CATEGORY'\n",
    "    elif feature['impute_with'] == 'MODE':\n",
    "        v = train[feature['feature']].value_counts().index[0]\n",
    "    elif feature['impute_with'] == 'CONSTANT':\n",
    "        v = feature['value']\n",
    "    train[feature['feature']] = train[feature['feature']].fillna(v)\n",
    "    test[feature['feature']] = test[feature['feature']].fillna(v)\n",
    "    print 'Imputed missing values in feature %s with value %s' % (feature['feature'], unicode(str(v), 'utf8'))"
   ]
  },
  {
   "cell_type": "markdown",
   "metadata": {},
   "source": [
    "We can now handle the categorical features (still using the settings defined in Models):"
   ]
  },
  {
   "cell_type": "markdown",
   "metadata": {},
   "source": [
    "Let's dummy-encode the following features.\n",
    "A binary column is created for each of the 100 most frequent values."
   ]
  },
  {
   "cell_type": "code",
   "execution_count": null,
   "metadata": {},
   "outputs": [],
   "source": [
    "LIMIT_DUMMIES = 100\n",
    "\n",
    "categorical_to_dummy_encode = [u'IAM', u'Compliance_Report_Issued', u'Noncompliance_Found', u'Country_1', u'External_ID', u'Bank']\n",
    "\n",
    "# Only keep the top 100 values\n",
    "def select_dummy_values(train, features):\n",
    "    dummy_values = {}\n",
    "    for feature in categorical_to_dummy_encode:\n",
    "        values = [\n",
    "            value\n",
    "            for (value, _) in Counter(train[feature]).most_common(LIMIT_DUMMIES)\n",
    "        ]\n",
    "        dummy_values[feature] = values\n",
    "    return dummy_values\n",
    "\n",
    "DUMMY_VALUES = select_dummy_values(train, categorical_to_dummy_encode)\n",
    "\n",
    "def dummy_encode_dataframe(df):\n",
    "    for (feature, dummy_values) in DUMMY_VALUES.items():\n",
    "        for dummy_value in dummy_values:\n",
    "            dummy_name = u'%s_value_%s' % (feature, unicode(dummy_value))\n",
    "            df[dummy_name] = (df[feature] == dummy_value).astype(float)\n",
    "        del df[feature]\n",
    "        print 'Dummy-encoded feature %s' % feature\n",
    "\n",
    "dummy_encode_dataframe(train)\n",
    "\n",
    "dummy_encode_dataframe(test)"
   ]
  },
  {
   "cell_type": "markdown",
   "metadata": {},
   "source": [
    "Let's rescale numerical features"
   ]
  },
  {
   "cell_type": "code",
   "execution_count": null,
   "metadata": {},
   "outputs": [],
   "source": [
    "rescale_features = {u'bar_staff_worked_institution_previously_long': u'AVGSTD', u'president_say_hiring_panelists_experts': u'AVGSTD', u'office': u'AVGSTD', u'budget_approved_board': u'AVGSTD', u'staff_determine_function_use': u'AVGSTD', u'board_approve_hiring_panelists_experts': u'AVGSTD', u'follow_reports_required_written_consultation_management_project_sponsor': u'AVGSTD', u'claimant_live_borrowing_country_project_issue': u'AVGSTD', u'claim_allege_specific_violations_institution_policies_procedures': u'AVGSTD', u'prepare_budget': u'AVGSTD', u'management_board_say_selection_approval_additional_staff': u'AVGSTD', u'claim_delivered_institution_regional_office': u'AVGSTD', u'cr_sought_ps_occur_first': u'AVGSTD', u'management_issue_action_plan_response_finding_non_compliance': u'AVGSTD', u'policy_contain_restrictions_concerning_past_ongoing_iam_proceedings': u'AVGSTD', u'claimants_comments_draft_findings': u'AVGSTD', u'claim_allege_material_harm': u'AVGSTD', u'clear_instructions_institution_staff_deliver_claim_received': u'AVGSTD', u'claim_describe_attempts_resolve_concerns_relevant_parties_well': u'AVGSTD', u'claim_brought_physical_completion_project': u'AVGSTD', u'management_president_hire_head_director': u'AVGSTD', u'advisory_function': u'AVGSTD', u'bar_head_director_worked_institution_previously_long': u'AVGSTD', u'representative_explain_one_community_represent_claimant': u'AVGSTD', u'information_available_institution_national_local_offices': u'AVGSTD', u'report_re_outcomes_independent_institution_staff': u'AVGSTD', u'submit_copy_claim_head_institution': u'AVGSTD', u'claim_brought_project_approved_institution_board': u'AVGSTD', u'recommendations': u'AVGSTD', u'right_appeal_outcome_independent_higher_authority': u'AVGSTD', u'biographical_data_investigators_available_website': u'AVGSTD', u'panelists_experts_employed_institution_working_long': u'AVGSTD', u'might_require_pres_management_approval_stage_process': u'AVGSTD', u'conduct_problem_solving_completed_projects': u'AVGSTD', u'two_functions_take_place_simultaneously': u'AVGSTD', u'frequency_follow_reports_released': u'AVGSTD', u'identities_investigators_disclosed_public': u'AVGSTD', u'investigate_claim_multiple_projects': u'AVGSTD', u'policy_require_independent_recruitment_staff': u'AVGSTD', u'draft_findings_made_available_claimant': u'AVGSTD', u'sent_fax_email_original_copy_request_sent_mail': u'AVGSTD', u'transparent_process_selection_approval_panelists_experts': u'AVGSTD', u'within_many_days_receipt_decision_made_regarding_registration': u'AVGSTD', u'institution_management_president_request_compliance_review': u'AVGSTD', u'select_approve_hiring_panelists_experts': u'AVGSTD', u'time_frame_limit_established_cr_investigation_phase': u'AVGSTD', u'public_registry_claims_submitted': u'AVGSTD', u'claimant_time_period_respond_rejected_claim': u'AVGSTD', u'conduct_compliance_review_completed_projects': u'AVGSTD', u'claim_brought_full_disbursal_funds': u'AVGSTD', u'problem_solving_dispute_resolution_function': u'AVGSTD', u'policy_require_new_information_file_new_request': u'AVGSTD', u'board_hire_head_director': u'AVGSTD', u'request_made_confidentiality': u'AVGSTD', u'bar_panelists_experts_worked_institution_previously_long': u'AVGSTD', u'relevant_department_respond_outcome_report': u'AVGSTD', u'claimants_informed_draft_findings_report_made_president_board': u'AVGSTD', u'long_take_determine_eligibility_review': u'AVGSTD', u'claimants_comments_draft_recommendations': u'AVGSTD', u'follow_monitoring_reports_made_public': u'AVGSTD', u'president_board_approve_transfer_compliance_review_function_problem_solving': u'AVGSTD', u'decision_made_regarding_eligibility': u'AVGSTD', u'staff_panelists_experts_request_compliance_review': u'AVGSTD', u'report_re_outcomes_independent_board': u'AVGSTD', u'default_respond_language_request': u'AVGSTD', u'claim_delivered_local_country_office_level': u'AVGSTD', u'requests_made_public': u'AVGSTD', u'panelists_experts_also_employees_international_institution': u'AVGSTD', u'external_stakeholders_say_selection_approval_panelists_experts': u'AVGSTD', u'claim_suggest_remedies': u'AVGSTD', u'policy_contain_restrictions_concerning_past_ongoing_judicial_arbitral_administrative_proceedings': u'AVGSTD', u'immediate_acknowledgement_claim_received_within_5_days': u'AVGSTD', u'investigate_project_sponsors_clients': u'AVGSTD', u'monitor_implementation_changes': u'AVGSTD', u'long_compliance_review_investigation_stage': u'AVGSTD', u'management_prepare_action_plan_consultation_requestors': u'AVGSTD', u'investigate_project_implementers_e_g_contractors': u'AVGSTD', u'claim_filed_language': u'AVGSTD', u'receive_consent_government_site_visits': u'AVGSTD', u'public_registry_requests': u'AVGSTD', u'new_information_unknown_unavailable_time_earlier_filing': u'AVGSTD', u'project_suspended_claim_brought': u'AVGSTD', u'follow_reports_required_written_consultation_claimants': u'AVGSTD', u'claim_describe_claimant_attempts_resolve_concerns_filing_claim': u'AVGSTD', u'upon_submission_revised_request_process_begin': u'AVGSTD', u'acceptance_claim_entail_preliminary_investigation_mechanism': u'AVGSTD', u'extension_investigation_require_approval_head_institution': u'AVGSTD', u'board_directors_notified_claim_filed': u'AVGSTD', u'individual_bring_claim_minimum_number_claimants': u'AVGSTD', u'long_take_determine_whether_register_claim': u'AVGSTD', u'least_one_site_visit_stage_required': u'AVGSTD', u'claim_brought_direct_harm_institution': u'AVGSTD', u'claim_allege_violation_bank_policies_except_procurement_fraud': u'AVGSTD', u'claims_filed_anonymously': u'AVGSTD', u'claimant_live_project_area': u'AVGSTD', u'draft_recommendations_made_available_claimant': u'AVGSTD', u'independent_authority_accept_conduct_cr': u'AVGSTD', u'issue_follow_monitoring_reports_independently': u'AVGSTD', u'policies_governing_time_delays': u'AVGSTD', u'long_problem_solving_stage': u'AVGSTD', u'non_local_representative_bring_claim_showing_adequate_local_representation': u'AVGSTD', u'representative_present_written_confirmation_authority_claimant': u'AVGSTD', u'long_take_determine_function_use': u'AVGSTD', u'panelists_experts_removed_board_without_cause': u'AVGSTD', u'request_registered_relevant_department_respond_request': u'AVGSTD', u'head_institution_notified_claim_filed': u'AVGSTD', u'staff_employed_institution_working_mechanism': u'AVGSTD', u'follow_reports_made_public': u'AVGSTD', u'eligibility_independent_president': u'AVGSTD', u'head_institution_notified_registers_claim': u'AVGSTD', u'gone_ps_satisfy_eligibility_req_good_faith_effort_resolve_compliance_review': u'AVGSTD', u'requirements_beyond_need_approval_representative_file_behalf': u'AVGSTD', u'policy_require_information_distributed_project_sponsors_re_mechanism': u'AVGSTD', u'claim_allege_causal_links_institution_noncompliance_harm': u'AVGSTD', u'long_total_process_receipt_request_closing_case': u'AVGSTD', u'affected_parties_notified_course_action_taken': u'AVGSTD'}\n",
    "for (feature_name, rescale_method) in rescale_features.items():\n",
    "    if rescale_method == 'MINMAX':\n",
    "        _min = train[feature_name].min()\n",
    "        _max = train[feature_name].max()\n",
    "        scale = _max - _min\n",
    "        shift = _min\n",
    "    else:\n",
    "        shift = train[feature_name].mean()\n",
    "        scale = train[feature_name].std()\n",
    "    if scale == 0.:\n",
    "        del train[feature_name]\n",
    "        del test[feature_name]\n",
    "        print 'Feature %s was dropped because it has no variance' % feature_name\n",
    "    else:\n",
    "        print 'Rescaled %s' % feature_name\n",
    "        train[feature_name] = (train[feature_name] - shift).astype(np.float64) / scale\n",
    "        test[feature_name] = (test[feature_name] - shift).astype(np.float64) / scale"
   ]
  },
  {
   "cell_type": "markdown",
   "metadata": {},
   "source": [
    "#### Modeling"
   ]
  },
  {
   "cell_type": "markdown",
   "metadata": {},
   "source": [
    "Before actually creating our model, we need to split the datasets into their features and labels parts:"
   ]
  },
  {
   "cell_type": "code",
   "execution_count": null,
   "metadata": {},
   "outputs": [],
   "source": [
    "train_X = train.drop('__target__', axis=1)\n",
    "test_X = test.drop('__target__', axis=1)\n",
    "\n",
    "train_Y = np.array(train['__target__'])\n",
    "test_Y = np.array(test['__target__'])"
   ]
  },
  {
   "cell_type": "markdown",
   "metadata": {},
   "source": [
    "Now we can finally create our model !"
   ]
  },
  {
   "cell_type": "code",
   "execution_count": null,
   "metadata": {},
   "outputs": [],
   "source": [
    "from sklearn.ensemble import GradientBoostingClassifier\n",
    "clf = GradientBoostingClassifier(\n",
    "                    random_state = 1337,\n",
    "                    verbose = 0,\n",
    "                    n_estimators = 100,\n",
    "                    learning_rate = 0.1,\n",
    "                    loss = 'deviance',\n",
    "                    max_depth = 3\n",
    "                   )"
   ]
  },
  {
   "cell_type": "markdown",
   "metadata": {},
   "source": [
    "... And train it"
   ]
  },
  {
   "cell_type": "code",
   "execution_count": null,
   "metadata": {},
   "outputs": [],
   "source": [
    "%time clf.fit(train_X, train_Y)"
   ]
  },
  {
   "cell_type": "markdown",
   "metadata": {},
   "source": [
    "Build up our result dataset"
   ]
  },
  {
   "cell_type": "markdown",
   "metadata": {},
   "source": [
    "The model is now being trained, we can apply it to our test set:"
   ]
  },
  {
   "cell_type": "code",
   "execution_count": null,
   "metadata": {},
   "outputs": [],
   "source": [
    "%time _predictions = clf.predict(test_X)\n",
    "%time _probas = clf.predict_proba(test_X)\n",
    "predictions = pd.Series(data=_predictions, index=test_X.index, name='predicted_value')\n",
    "cols = [\n",
    "    u'probability_of_value_%s' % label\n",
    "    for (_, label) in sorted([(int(target_map[label]), label) for label in target_map])\n",
    "]\n",
    "probabilities = pd.DataFrame(data=_probas, index=test_X.index, columns=cols)\n",
    "\n",
    "# Build scored dataset\n",
    "results_test = test_X.join(predictions, how='left')\n",
    "results_test = results_test.join(probabilities, how='left')\n",
    "results_test = results_test.join(test['__target__'], how='left')\n",
    "results_test = results_test.rename(columns= {'__target__': 'ELIGIBLE'})"
   ]
  },
  {
   "cell_type": "markdown",
   "metadata": {},
   "source": [
    "#### Results"
   ]
  },
  {
   "cell_type": "markdown",
   "metadata": {},
   "source": [
    "You can measure the model's accuracy:"
   ]
  },
  {
   "cell_type": "code",
   "execution_count": null,
   "metadata": {},
   "outputs": [],
   "source": [
    "from dataiku.doctor.utils.metrics import mroc_auc_score\n",
    "test_Y_ser = pd.Series(test_Y)\n",
    "print 'AUC value:', mroc_auc_score(test_Y_ser, _probas)"
   ]
  },
  {
   "cell_type": "markdown",
   "metadata": {},
   "source": [
    "We can also view the predictions directly.\n",
    "Since scikit-learn only predicts numericals, the labels have been mapped to 0,1,2 ...\n",
    "We need to 'reverse' the mapping to display the initial labels."
   ]
  },
  {
   "cell_type": "code",
   "execution_count": null,
   "metadata": {},
   "outputs": [],
   "source": [
    "inv_map = { target_map[label] : label for label in target_map}\n",
    "predictions.map(inv_map)"
   ]
  },
  {
   "cell_type": "markdown",
   "metadata": {},
   "source": [
    "That's it. It's now up to you to tune your preprocessing, your algo, and your analysis !\n"
   ]
  }
 ],
 "metadata": {
  "kernelspec": {
   "display_name": "Python 2",
   "language": "python",
   "name": "python2"
  },
  "language_info": {
   "codemirror_mode": {
    "name": "ipython",
    "version": 2
   },
   "file_extension": ".py",
   "mimetype": "text/x-python",
   "name": "python",
   "nbconvert_exporter": "python",
   "pygments_lexer": "ipython2",
   "version": "2.7.10"
  },
  "name": "Predicting ELIGIBLE in AC_data_prepared_1_joined"
 },
 "nbformat": 4,
 "nbformat_minor": 1
}
